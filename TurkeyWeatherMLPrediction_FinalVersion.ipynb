{
 "cells": [
  {
   "cell_type": "markdown",
   "metadata": {},
   "source": [
    "# WEATHER PREDICTION WITH MACHINE LEARNING FOR CITIES IN TURKEY"
   ]
  },
  {
   "cell_type": "markdown",
   "metadata": {},
   "source": [
    "Team Name: **WeMac**\n",
    "\n",
    "Team Members:\n",
    "\n",
    "**Sezer UĞUZ**\n",
    "201511213\n",
    "\n",
    "**Eyüp Can TURGUT**\n",
    "201411062\n",
    "\n",
    "**Official Github Web Page of Project:** https://github.com/BilgiSezer/TurkeyWeatherMLPrediction\n",
    "\n",
    "# Explanation of Project and Terms\n",
    "\n",
    "We will focus on analyzing the **weather data** from http://climexp.knmi.nl/selectdailyseries.cgi?id=someone@somewhere for **Turkey**. We collected raw data from the **KNMI Climate Explorer** web site. We will analyze the data with the goal of selecting appropriate features for building a **Linear Regression model** using the **statsmodels** and **scikit-learn** Python libraries.\n",
    "\n",
    "After building a Linear Regression model, we will focus on using **Neural Networks.** We will compare the results between Linear Regression and Neural Network models.\n",
    "\n",
    "Finally, we will try to do examine for global warming and flooding issues related results of models.\n",
    "\n",
    "Cities that are we will examine;\n",
    "**Istanbul, Kastamonu, Sivas, Rize, Van, Antalya and Isparta.**\n",
    "\n",
    "Years to review;\n",
    "**1958-2003**\n",
    "\n",
    "**DPrec:** Daily Precipitation\n",
    "\n",
    "**DMaxT:** Daily Maximum Temperature\n",
    "\n",
    "**DMinT:** Daily Minimum Temperature\n",
    "\n",
    "**DMeanT:** Daily Mean Temperature"
   ]
  },
  {
   "cell_type": "markdown",
   "metadata": {},
   "source": [
    "### In Brief\n",
    "In our project, we examined the weather prediction of 7 cities in Turkey, data of years between 1958 and 2003, according to precipitation, mean temperature, minimum temperature and maximum temperature."
   ]
  },
  {
   "cell_type": "markdown",
   "metadata": {},
   "source": [
    "## Libraries that We Used\n",
    "* Using \"pandas\" library we take the data from text files,\n",
    "* \"numpy\" library for scientific calculations,\n",
    "* \"seaborn\", \"matplotlib.pyplot\" and \"sklearn\" libraries for visualize the datas\n",
    "* \"statsmodels\" library for conducting statistical tests, and statistical data exploration"
   ]
  },
  {
   "cell_type": "code",
   "execution_count": 1,
   "metadata": {},
   "outputs": [],
   "source": [
    "import numpy as np \n",
    "import pandas as pd\n",
    "import seaborn as sns\n",
    "sns.set_palette('husl')\n",
    "import matplotlib.pyplot as plt\n",
    "%matplotlib inline\n",
    "import statsmodels.api as sm\n",
    "import statsmodels.formula.api as smf\n",
    "\n",
    "from sklearn import metrics\n",
    "from sklearn.neighbors import KNeighborsClassifier\n",
    "from sklearn.linear_model import LogisticRegression\n",
    "from sklearn.model_selection import train_test_split\n",
    "from statsmodels.graphics.regressionplots import abline_plot\n",
    "\n"
   ]
  },
  {
   "cell_type": "markdown",
   "metadata": {},
   "source": [
    "# General View of Turkey Map with Our Related Cities"
   ]
  },
  {
   "cell_type": "markdown",
   "metadata": {},
   "source": [
    "#### In here, we examined the location of our cities that related the project. (Istanbul, Kastamonu, Sivas, Rize, Van, Antalya and Isparta) These are latitudes and longitudes of the cities."
   ]
  },
  {
   "cell_type": "code",
   "execution_count": 2,
   "metadata": {},
   "outputs": [],
   "source": [
    "LocationCities = pd.DataFrame({\n",
    "   'Longitude':[28.58, 33.47, 40.31, 37.02, 43.20, 30.42, 30.33],\n",
    "   'Latitude':[41.01, 41.22, 41.02, 39.45, 38.28, 36.53, 37.46],\n",
    "   'CityName':['Istanbul', 'Kastamonu', 'Rize', 'Sivas', 'Van', 'Antalya', 'Isparta']\n",
    "})"
   ]
  },
  {
   "cell_type": "markdown",
   "metadata": {},
   "source": [
    "#### We visualizated the cities that we examine."
   ]
  },
  {
   "cell_type": "code",
   "execution_count": 3,
   "metadata": {},
   "outputs": [
    {
     "data": {
      "text/html": [
       "\n",
       "    <div class=\"bk-root\">\n",
       "        <a href=\"https://bokeh.pydata.org\" target=\"_blank\" class=\"bk-logo bk-logo-small bk-logo-notebook\"></a>\n",
       "        <span id=\"3750d7c5-14e6-42a0-8c15-7970d4b46c98\">Loading BokehJS ...</span>\n",
       "    </div>"
      ]
     },
     "metadata": {},
     "output_type": "display_data"
    },
    {
     "data": {
      "application/javascript": [
       "\n",
       "(function(root) {\n",
       "  function now() {\n",
       "    return new Date();\n",
       "  }\n",
       "\n",
       "  var force = true;\n",
       "\n",
       "  if (typeof (root._bokeh_onload_callbacks) === \"undefined\" || force === true) {\n",
       "    root._bokeh_onload_callbacks = [];\n",
       "    root._bokeh_is_loading = undefined;\n",
       "  }\n",
       "\n",
       "  var JS_MIME_TYPE = 'application/javascript';\n",
       "  var HTML_MIME_TYPE = 'text/html';\n",
       "  var EXEC_MIME_TYPE = 'application/vnd.bokehjs_exec.v0+json';\n",
       "  var CLASS_NAME = 'output_bokeh rendered_html';\n",
       "\n",
       "  /**\n",
       "   * Render data to the DOM node\n",
       "   */\n",
       "  function render(props, node) {\n",
       "    var script = document.createElement(\"script\");\n",
       "    node.appendChild(script);\n",
       "  }\n",
       "\n",
       "  /**\n",
       "   * Handle when an output is cleared or removed\n",
       "   */\n",
       "  function handleClearOutput(event, handle) {\n",
       "    var cell = handle.cell;\n",
       "\n",
       "    var id = cell.output_area._bokeh_element_id;\n",
       "    var server_id = cell.output_area._bokeh_server_id;\n",
       "    // Clean up Bokeh references\n",
       "    if (id !== undefined) {\n",
       "      Bokeh.index[id].model.document.clear();\n",
       "      delete Bokeh.index[id];\n",
       "    }\n",
       "\n",
       "    if (server_id !== undefined) {\n",
       "      // Clean up Bokeh references\n",
       "      var cmd = \"from bokeh.io.state import curstate; print(curstate().uuid_to_server['\" + server_id + \"'].get_sessions()[0].document.roots[0]._id)\";\n",
       "      cell.notebook.kernel.execute(cmd, {\n",
       "        iopub: {\n",
       "          output: function(msg) {\n",
       "            var element_id = msg.content.text.trim();\n",
       "            Bokeh.index[element_id].model.document.clear();\n",
       "            delete Bokeh.index[element_id];\n",
       "          }\n",
       "        }\n",
       "      });\n",
       "      // Destroy server and session\n",
       "      var cmd = \"import bokeh.io.notebook as ion; ion.destroy_server('\" + server_id + \"')\";\n",
       "      cell.notebook.kernel.execute(cmd);\n",
       "    }\n",
       "  }\n",
       "\n",
       "  /**\n",
       "   * Handle when a new output is added\n",
       "   */\n",
       "  function handleAddOutput(event, handle) {\n",
       "    var output_area = handle.output_area;\n",
       "    var output = handle.output;\n",
       "\n",
       "    // limit handleAddOutput to display_data with EXEC_MIME_TYPE content only\n",
       "    if ((output.output_type != \"display_data\") || (!output.data.hasOwnProperty(EXEC_MIME_TYPE))) {\n",
       "      return\n",
       "    }\n",
       "\n",
       "    var toinsert = output_area.element.find(\".\" + CLASS_NAME.split(' ')[0]);\n",
       "\n",
       "    if (output.metadata[EXEC_MIME_TYPE][\"id\"] !== undefined) {\n",
       "      toinsert[toinsert.length - 1].firstChild.textContent = output.data[JS_MIME_TYPE];\n",
       "      // store reference to embed id on output_area\n",
       "      output_area._bokeh_element_id = output.metadata[EXEC_MIME_TYPE][\"id\"];\n",
       "    }\n",
       "    if (output.metadata[EXEC_MIME_TYPE][\"server_id\"] !== undefined) {\n",
       "      var bk_div = document.createElement(\"div\");\n",
       "      bk_div.innerHTML = output.data[HTML_MIME_TYPE];\n",
       "      var script_attrs = bk_div.children[0].attributes;\n",
       "      for (var i = 0; i < script_attrs.length; i++) {\n",
       "        toinsert[toinsert.length - 1].firstChild.setAttribute(script_attrs[i].name, script_attrs[i].value);\n",
       "      }\n",
       "      // store reference to server id on output_area\n",
       "      output_area._bokeh_server_id = output.metadata[EXEC_MIME_TYPE][\"server_id\"];\n",
       "    }\n",
       "  }\n",
       "\n",
       "  function register_renderer(events, OutputArea) {\n",
       "\n",
       "    function append_mime(data, metadata, element) {\n",
       "      // create a DOM node to render to\n",
       "      var toinsert = this.create_output_subarea(\n",
       "        metadata,\n",
       "        CLASS_NAME,\n",
       "        EXEC_MIME_TYPE\n",
       "      );\n",
       "      this.keyboard_manager.register_events(toinsert);\n",
       "      // Render to node\n",
       "      var props = {data: data, metadata: metadata[EXEC_MIME_TYPE]};\n",
       "      render(props, toinsert[toinsert.length - 1]);\n",
       "      element.append(toinsert);\n",
       "      return toinsert\n",
       "    }\n",
       "\n",
       "    /* Handle when an output is cleared or removed */\n",
       "    events.on('clear_output.CodeCell', handleClearOutput);\n",
       "    events.on('delete.Cell', handleClearOutput);\n",
       "\n",
       "    /* Handle when a new output is added */\n",
       "    events.on('output_added.OutputArea', handleAddOutput);\n",
       "\n",
       "    /**\n",
       "     * Register the mime type and append_mime function with output_area\n",
       "     */\n",
       "    OutputArea.prototype.register_mime_type(EXEC_MIME_TYPE, append_mime, {\n",
       "      /* Is output safe? */\n",
       "      safe: true,\n",
       "      /* Index of renderer in `output_area.display_order` */\n",
       "      index: 0\n",
       "    });\n",
       "  }\n",
       "\n",
       "  // register the mime type if in Jupyter Notebook environment and previously unregistered\n",
       "  if (root.Jupyter !== undefined) {\n",
       "    var events = require('base/js/events');\n",
       "    var OutputArea = require('notebook/js/outputarea').OutputArea;\n",
       "\n",
       "    if (OutputArea.prototype.mime_types().indexOf(EXEC_MIME_TYPE) == -1) {\n",
       "      register_renderer(events, OutputArea);\n",
       "    }\n",
       "  }\n",
       "\n",
       "  \n",
       "  if (typeof (root._bokeh_timeout) === \"undefined\" || force === true) {\n",
       "    root._bokeh_timeout = Date.now() + 5000;\n",
       "    root._bokeh_failed_load = false;\n",
       "  }\n",
       "\n",
       "  var NB_LOAD_WARNING = {'data': {'text/html':\n",
       "     \"<div style='background-color: #fdd'>\\n\"+\n",
       "     \"<p>\\n\"+\n",
       "     \"BokehJS does not appear to have successfully loaded. If loading BokehJS from CDN, this \\n\"+\n",
       "     \"may be due to a slow or bad network connection. Possible fixes:\\n\"+\n",
       "     \"</p>\\n\"+\n",
       "     \"<ul>\\n\"+\n",
       "     \"<li>re-rerun `output_notebook()` to attempt to load from CDN again, or</li>\\n\"+\n",
       "     \"<li>use INLINE resources instead, as so:</li>\\n\"+\n",
       "     \"</ul>\\n\"+\n",
       "     \"<code>\\n\"+\n",
       "     \"from bokeh.resources import INLINE\\n\"+\n",
       "     \"output_notebook(resources=INLINE)\\n\"+\n",
       "     \"</code>\\n\"+\n",
       "     \"</div>\"}};\n",
       "\n",
       "  function display_loaded() {\n",
       "    var el = document.getElementById(\"3750d7c5-14e6-42a0-8c15-7970d4b46c98\");\n",
       "    if (el != null) {\n",
       "      el.textContent = \"BokehJS is loading...\";\n",
       "    }\n",
       "    if (root.Bokeh !== undefined) {\n",
       "      if (el != null) {\n",
       "        el.textContent = \"BokehJS \" + root.Bokeh.version + \" successfully loaded.\";\n",
       "      }\n",
       "    } else if (Date.now() < root._bokeh_timeout) {\n",
       "      setTimeout(display_loaded, 100)\n",
       "    }\n",
       "  }\n",
       "\n",
       "\n",
       "  function run_callbacks() {\n",
       "    try {\n",
       "      root._bokeh_onload_callbacks.forEach(function(callback) { callback() });\n",
       "    }\n",
       "    finally {\n",
       "      delete root._bokeh_onload_callbacks\n",
       "    }\n",
       "    console.info(\"Bokeh: all callbacks have finished\");\n",
       "  }\n",
       "\n",
       "  function load_libs(js_urls, callback) {\n",
       "    root._bokeh_onload_callbacks.push(callback);\n",
       "    if (root._bokeh_is_loading > 0) {\n",
       "      console.log(\"Bokeh: BokehJS is being loaded, scheduling callback at\", now());\n",
       "      return null;\n",
       "    }\n",
       "    if (js_urls == null || js_urls.length === 0) {\n",
       "      run_callbacks();\n",
       "      return null;\n",
       "    }\n",
       "    console.log(\"Bokeh: BokehJS not loaded, scheduling load and callback at\", now());\n",
       "    root._bokeh_is_loading = js_urls.length;\n",
       "    for (var i = 0; i < js_urls.length; i++) {\n",
       "      var url = js_urls[i];\n",
       "      var s = document.createElement('script');\n",
       "      s.src = url;\n",
       "      s.async = false;\n",
       "      s.onreadystatechange = s.onload = function() {\n",
       "        root._bokeh_is_loading--;\n",
       "        if (root._bokeh_is_loading === 0) {\n",
       "          console.log(\"Bokeh: all BokehJS libraries loaded\");\n",
       "          run_callbacks()\n",
       "        }\n",
       "      };\n",
       "      s.onerror = function() {\n",
       "        console.warn(\"failed to load library \" + url);\n",
       "      };\n",
       "      console.log(\"Bokeh: injecting script tag for BokehJS library: \", url);\n",
       "      document.getElementsByTagName(\"head\")[0].appendChild(s);\n",
       "    }\n",
       "  };var element = document.getElementById(\"3750d7c5-14e6-42a0-8c15-7970d4b46c98\");\n",
       "  if (element == null) {\n",
       "    console.log(\"Bokeh: ERROR: autoload.js configured with elementid '3750d7c5-14e6-42a0-8c15-7970d4b46c98' but no matching script tag was found. \")\n",
       "    return false;\n",
       "  }\n",
       "\n",
       "  var js_urls = [\"https://cdn.pydata.org/bokeh/release/bokeh-0.12.16.min.js\", \"https://cdn.pydata.org/bokeh/release/bokeh-widgets-0.12.16.min.js\", \"https://cdn.pydata.org/bokeh/release/bokeh-tables-0.12.16.min.js\", \"https://cdn.pydata.org/bokeh/release/bokeh-gl-0.12.16.min.js\"];\n",
       "\n",
       "  var inline_js = [\n",
       "    function(Bokeh) {\n",
       "      Bokeh.set_log_level(\"info\");\n",
       "    },\n",
       "    \n",
       "    function(Bokeh) {\n",
       "      \n",
       "    },\n",
       "    function(Bokeh) {\n",
       "      console.log(\"Bokeh: injecting CSS: https://cdn.pydata.org/bokeh/release/bokeh-0.12.16.min.css\");\n",
       "      Bokeh.embed.inject_css(\"https://cdn.pydata.org/bokeh/release/bokeh-0.12.16.min.css\");\n",
       "      console.log(\"Bokeh: injecting CSS: https://cdn.pydata.org/bokeh/release/bokeh-widgets-0.12.16.min.css\");\n",
       "      Bokeh.embed.inject_css(\"https://cdn.pydata.org/bokeh/release/bokeh-widgets-0.12.16.min.css\");\n",
       "      console.log(\"Bokeh: injecting CSS: https://cdn.pydata.org/bokeh/release/bokeh-tables-0.12.16.min.css\");\n",
       "      Bokeh.embed.inject_css(\"https://cdn.pydata.org/bokeh/release/bokeh-tables-0.12.16.min.css\");\n",
       "    }\n",
       "  ];\n",
       "\n",
       "  function run_inline_js() {\n",
       "    \n",
       "    if ((root.Bokeh !== undefined) || (force === true)) {\n",
       "      for (var i = 0; i < inline_js.length; i++) {\n",
       "        inline_js[i].call(root, root.Bokeh);\n",
       "      }if (force === true) {\n",
       "        display_loaded();\n",
       "      }} else if (Date.now() < root._bokeh_timeout) {\n",
       "      setTimeout(run_inline_js, 100);\n",
       "    } else if (!root._bokeh_failed_load) {\n",
       "      console.log(\"Bokeh: BokehJS failed to load within specified timeout.\");\n",
       "      root._bokeh_failed_load = true;\n",
       "    } else if (force !== true) {\n",
       "      var cell = $(document.getElementById(\"3750d7c5-14e6-42a0-8c15-7970d4b46c98\")).parents('.cell').data().cell;\n",
       "      cell.output_area.append_execute_result(NB_LOAD_WARNING)\n",
       "    }\n",
       "\n",
       "  }\n",
       "\n",
       "  if (root._bokeh_is_loading === 0) {\n",
       "    console.log(\"Bokeh: BokehJS loaded, going straight to plotting\");\n",
       "    run_inline_js();\n",
       "  } else {\n",
       "    load_libs(js_urls, function() {\n",
       "      console.log(\"Bokeh: BokehJS plotting callback run at\", now());\n",
       "      run_inline_js();\n",
       "    });\n",
       "  }\n",
       "}(window));"
      ],
      "application/vnd.bokehjs_load.v0+json": "\n(function(root) {\n  function now() {\n    return new Date();\n  }\n\n  var force = true;\n\n  if (typeof (root._bokeh_onload_callbacks) === \"undefined\" || force === true) {\n    root._bokeh_onload_callbacks = [];\n    root._bokeh_is_loading = undefined;\n  }\n\n  \n\n  \n  if (typeof (root._bokeh_timeout) === \"undefined\" || force === true) {\n    root._bokeh_timeout = Date.now() + 5000;\n    root._bokeh_failed_load = false;\n  }\n\n  var NB_LOAD_WARNING = {'data': {'text/html':\n     \"<div style='background-color: #fdd'>\\n\"+\n     \"<p>\\n\"+\n     \"BokehJS does not appear to have successfully loaded. If loading BokehJS from CDN, this \\n\"+\n     \"may be due to a slow or bad network connection. Possible fixes:\\n\"+\n     \"</p>\\n\"+\n     \"<ul>\\n\"+\n     \"<li>re-rerun `output_notebook()` to attempt to load from CDN again, or</li>\\n\"+\n     \"<li>use INLINE resources instead, as so:</li>\\n\"+\n     \"</ul>\\n\"+\n     \"<code>\\n\"+\n     \"from bokeh.resources import INLINE\\n\"+\n     \"output_notebook(resources=INLINE)\\n\"+\n     \"</code>\\n\"+\n     \"</div>\"}};\n\n  function display_loaded() {\n    var el = document.getElementById(\"3750d7c5-14e6-42a0-8c15-7970d4b46c98\");\n    if (el != null) {\n      el.textContent = \"BokehJS is loading...\";\n    }\n    if (root.Bokeh !== undefined) {\n      if (el != null) {\n        el.textContent = \"BokehJS \" + root.Bokeh.version + \" successfully loaded.\";\n      }\n    } else if (Date.now() < root._bokeh_timeout) {\n      setTimeout(display_loaded, 100)\n    }\n  }\n\n\n  function run_callbacks() {\n    try {\n      root._bokeh_onload_callbacks.forEach(function(callback) { callback() });\n    }\n    finally {\n      delete root._bokeh_onload_callbacks\n    }\n    console.info(\"Bokeh: all callbacks have finished\");\n  }\n\n  function load_libs(js_urls, callback) {\n    root._bokeh_onload_callbacks.push(callback);\n    if (root._bokeh_is_loading > 0) {\n      console.log(\"Bokeh: BokehJS is being loaded, scheduling callback at\", now());\n      return null;\n    }\n    if (js_urls == null || js_urls.length === 0) {\n      run_callbacks();\n      return null;\n    }\n    console.log(\"Bokeh: BokehJS not loaded, scheduling load and callback at\", now());\n    root._bokeh_is_loading = js_urls.length;\n    for (var i = 0; i < js_urls.length; i++) {\n      var url = js_urls[i];\n      var s = document.createElement('script');\n      s.src = url;\n      s.async = false;\n      s.onreadystatechange = s.onload = function() {\n        root._bokeh_is_loading--;\n        if (root._bokeh_is_loading === 0) {\n          console.log(\"Bokeh: all BokehJS libraries loaded\");\n          run_callbacks()\n        }\n      };\n      s.onerror = function() {\n        console.warn(\"failed to load library \" + url);\n      };\n      console.log(\"Bokeh: injecting script tag for BokehJS library: \", url);\n      document.getElementsByTagName(\"head\")[0].appendChild(s);\n    }\n  };var element = document.getElementById(\"3750d7c5-14e6-42a0-8c15-7970d4b46c98\");\n  if (element == null) {\n    console.log(\"Bokeh: ERROR: autoload.js configured with elementid '3750d7c5-14e6-42a0-8c15-7970d4b46c98' but no matching script tag was found. \")\n    return false;\n  }\n\n  var js_urls = [\"https://cdn.pydata.org/bokeh/release/bokeh-0.12.16.min.js\", \"https://cdn.pydata.org/bokeh/release/bokeh-widgets-0.12.16.min.js\", \"https://cdn.pydata.org/bokeh/release/bokeh-tables-0.12.16.min.js\", \"https://cdn.pydata.org/bokeh/release/bokeh-gl-0.12.16.min.js\"];\n\n  var inline_js = [\n    function(Bokeh) {\n      Bokeh.set_log_level(\"info\");\n    },\n    \n    function(Bokeh) {\n      \n    },\n    function(Bokeh) {\n      console.log(\"Bokeh: injecting CSS: https://cdn.pydata.org/bokeh/release/bokeh-0.12.16.min.css\");\n      Bokeh.embed.inject_css(\"https://cdn.pydata.org/bokeh/release/bokeh-0.12.16.min.css\");\n      console.log(\"Bokeh: injecting CSS: https://cdn.pydata.org/bokeh/release/bokeh-widgets-0.12.16.min.css\");\n      Bokeh.embed.inject_css(\"https://cdn.pydata.org/bokeh/release/bokeh-widgets-0.12.16.min.css\");\n      console.log(\"Bokeh: injecting CSS: https://cdn.pydata.org/bokeh/release/bokeh-tables-0.12.16.min.css\");\n      Bokeh.embed.inject_css(\"https://cdn.pydata.org/bokeh/release/bokeh-tables-0.12.16.min.css\");\n    }\n  ];\n\n  function run_inline_js() {\n    \n    if ((root.Bokeh !== undefined) || (force === true)) {\n      for (var i = 0; i < inline_js.length; i++) {\n        inline_js[i].call(root, root.Bokeh);\n      }if (force === true) {\n        display_loaded();\n      }} else if (Date.now() < root._bokeh_timeout) {\n      setTimeout(run_inline_js, 100);\n    } else if (!root._bokeh_failed_load) {\n      console.log(\"Bokeh: BokehJS failed to load within specified timeout.\");\n      root._bokeh_failed_load = true;\n    } else if (force !== true) {\n      var cell = $(document.getElementById(\"3750d7c5-14e6-42a0-8c15-7970d4b46c98\")).parents('.cell').data().cell;\n      cell.output_area.append_execute_result(NB_LOAD_WARNING)\n    }\n\n  }\n\n  if (root._bokeh_is_loading === 0) {\n    console.log(\"Bokeh: BokehJS loaded, going straight to plotting\");\n    run_inline_js();\n  } else {\n    load_libs(js_urls, function() {\n      console.log(\"Bokeh: BokehJS plotting callback run at\", now());\n      run_inline_js();\n    });\n  }\n}(window));"
     },
     "metadata": {},
     "output_type": "display_data"
    },
    {
     "data": {
      "text/html": [
       "\n",
       "<div class=\"bk-root\">\n",
       "    <div class=\"bk-plotdiv\" id=\"98e42a05-2bb3-4b03-847a-ae1e03f6407b\"></div>\n",
       "</div>"
      ]
     },
     "metadata": {},
     "output_type": "display_data"
    },
    {
     "data": {
      "application/javascript": [
       "(function(root) {\n",
       "  function embed_document(root) {\n",
       "    \n",
       "  var docs_json = {\"8d3f6db7-f258-4e69-92d9-9052d658bf04\":{\"roots\":{\"references\":[{\"attributes\":{\"callback\":null},\"id\":\"cdc47fbb-7b7c-4b27-9f54-1b1a29ec62aa\",\"type\":\"Range1d\"},{\"attributes\":{\"source\":{\"id\":\"c8ac436c-279a-4b38-93ab-dea8be706dd6\",\"type\":\"ColumnDataSource\"}},\"id\":\"25c3dc50-3bd3-4dbd-9a24-9e4aa7296d89\",\"type\":\"CDSView\"},{\"attributes\":{\"lat\":38.9637,\"lng\":35.2433,\"map_type\":\"terrain\",\"zoom\":6},\"id\":\"d759c22a-81fa-43c9-a63f-52f351992a78\",\"type\":\"GMapOptions\"},{\"attributes\":{\"plot\":null,\"text\":\"Here  on Google Maps for cities in TURKEY!\"},\"id\":\"2cc4b763-7323-4188-86e2-ade30f0b2b85\",\"type\":\"Title\"},{\"attributes\":{\"active_drag\":\"auto\",\"active_inspect\":\"auto\",\"active_scroll\":\"auto\",\"active_tap\":\"auto\"},\"id\":\"711b51c5-2535-469f-b93d-af8a0d7552e8\",\"type\":\"Toolbar\"},{\"attributes\":{},\"id\":\"273e3e7d-d19f-4ac4-98a4-0a48e8494e01\",\"type\":\"Selection\"},{\"attributes\":{},\"id\":\"84f781cf-dea0-4cf2-83bc-365e2a5b0ba4\",\"type\":\"UnionRenderers\"},{\"attributes\":{},\"id\":\"04912da4-5a81-42ba-8462-4dde959cfa2c\",\"type\":\"LinearScale\"},{\"attributes\":{\"callback\":null,\"data\":{\"color\":[\"Istanbul\",\"Kastamonu\",\"Rize\",\"Sivas\",\"Van\",\"Antalya\",\"Isparta\"],\"lat\":[41.01,41.22,41.02,39.45,38.28,36.53,37.46],\"lon\":[28.58,33.47,40.31,37.02,43.2,30.42,30.33]},\"selected\":{\"id\":\"273e3e7d-d19f-4ac4-98a4-0a48e8494e01\",\"type\":\"Selection\"},\"selection_policy\":{\"id\":\"84f781cf-dea0-4cf2-83bc-365e2a5b0ba4\",\"type\":\"UnionRenderers\"}},\"id\":\"c8ac436c-279a-4b38-93ab-dea8be706dd6\",\"type\":\"ColumnDataSource\"},{\"attributes\":{},\"id\":\"7cf69279-8312-462e-86b2-b45c5d1d7d8a\",\"type\":\"LinearScale\"},{\"attributes\":{\"fill_alpha\":{\"value\":0.4},\"fill_color\":{\"value\":\"white\"},\"line_color\":{\"value\":\"#3288bd\"},\"line_width\":{\"value\":7},\"size\":{\"units\":\"screen\",\"value\":100},\"x\":{\"field\":\"lon\"},\"y\":{\"field\":\"lat\"}},\"id\":\"420c63a5-417b-4159-ba62-54dfb6489079\",\"type\":\"Circle\"},{\"attributes\":{\"data_source\":{\"id\":\"c8ac436c-279a-4b38-93ab-dea8be706dd6\",\"type\":\"ColumnDataSource\"},\"glyph\":{\"id\":\"420c63a5-417b-4159-ba62-54dfb6489079\",\"type\":\"Circle\"},\"hover_glyph\":null,\"muted_glyph\":null,\"view\":{\"id\":\"25c3dc50-3bd3-4dbd-9a24-9e4aa7296d89\",\"type\":\"CDSView\"}},\"id\":\"7f9a4dc3-20b2-4521-a51f-890d87596be8\",\"type\":\"GlyphRenderer\"},{\"attributes\":{\"callback\":null},\"id\":\"1286476c-8bfa-4ba6-9fdb-3fcf727ffe9e\",\"type\":\"Range1d\"},{\"attributes\":{\"api_key\":\"Write your API Key!\",\"map_options\":{\"id\":\"d759c22a-81fa-43c9-a63f-52f351992a78\",\"type\":\"GMapOptions\"},\"plot_height\":800,\"plot_width\":990,\"renderers\":[{\"id\":\"7f9a4dc3-20b2-4521-a51f-890d87596be8\",\"type\":\"GlyphRenderer\"}],\"title\":{\"id\":\"2cc4b763-7323-4188-86e2-ade30f0b2b85\",\"type\":\"Title\"},\"toolbar\":{\"id\":\"711b51c5-2535-469f-b93d-af8a0d7552e8\",\"type\":\"Toolbar\"},\"x_range\":{\"id\":\"cdc47fbb-7b7c-4b27-9f54-1b1a29ec62aa\",\"type\":\"Range1d\"},\"x_scale\":{\"id\":\"7cf69279-8312-462e-86b2-b45c5d1d7d8a\",\"type\":\"LinearScale\"},\"y_range\":{\"id\":\"1286476c-8bfa-4ba6-9fdb-3fcf727ffe9e\",\"type\":\"Range1d\"},\"y_scale\":{\"id\":\"04912da4-5a81-42ba-8462-4dde959cfa2c\",\"type\":\"LinearScale\"}},\"id\":\"a0679554-cb7c-4842-a59f-58e3230c9b33\",\"type\":\"GMapPlot\"}],\"root_ids\":[\"a0679554-cb7c-4842-a59f-58e3230c9b33\"]},\"title\":\"Bokeh Application\",\"version\":\"0.12.16\"}};\n",
       "  var render_items = [{\"docid\":\"8d3f6db7-f258-4e69-92d9-9052d658bf04\",\"elementid\":\"98e42a05-2bb3-4b03-847a-ae1e03f6407b\",\"modelid\":\"a0679554-cb7c-4842-a59f-58e3230c9b33\"}];\n",
       "  root.Bokeh.embed.embed_items_notebook(docs_json, render_items);\n",
       "\n",
       "  }\n",
       "  if (root.Bokeh !== undefined) {\n",
       "    embed_document(root);\n",
       "  } else {\n",
       "    var attempts = 0;\n",
       "    var timer = setInterval(function(root) {\n",
       "      if (root.Bokeh !== undefined) {\n",
       "        embed_document(root);\n",
       "        clearInterval(timer);\n",
       "      }\n",
       "      attempts++;\n",
       "      if (attempts > 100) {\n",
       "        console.log(\"Bokeh: ERROR: Unable to run BokehJS code because BokehJS library is missing\")\n",
       "        clearInterval(timer);\n",
       "      }\n",
       "    }, 10, root)\n",
       "  }\n",
       "})(window);"
      ],
      "application/vnd.bokehjs_exec.v0+json": ""
     },
     "metadata": {
      "application/vnd.bokehjs_exec.v0+json": {
       "id": "a0679554-cb7c-4842-a59f-58e3230c9b33"
      }
     },
     "output_type": "display_data"
    }
   ],
   "source": [
    "from bokeh.io import output_file, output_notebook, show\n",
    "from bokeh.models import (\n",
    "  GMapPlot, GMapOptions, ColumnDataSource, Circle, LogColorMapper, BasicTicker, ColorBar,\n",
    "    Range1d, DataRange1d, PanTool, WheelZoomTool, BoxSelectTool\n",
    ")\n",
    "from bokeh.models.mappers import ColorMapper, LinearColorMapper\n",
    "from bokeh.palettes import Viridis5\n",
    "from bokeh.plotting import figure, output_file, show\n",
    "\n",
    "\n",
    "map_options = GMapOptions(lat=38.9637, lng=35.2433, map_type=\"terrain\", zoom=6)\n",
    "\n",
    "plot = GMapPlot(\n",
    "    x_range=Range1d(), y_range=Range1d(), map_options=map_options, plot_width=990, plot_height=800\n",
    ")\n",
    "plot.title.text = \"Here  on Google Maps for cities in TURKEY!\"\n",
    "\n",
    "plot.api_key = \"Write your API Key!\" #Your Google Maps API Key\n",
    "\n",
    "source = ColumnDataSource(\n",
    "    data=dict(\n",
    "        lat=LocationCities.Latitude.tolist(),\n",
    "        lon=LocationCities.Longitude.tolist(),\n",
    "        color=LocationCities.CityName.tolist()\n",
    "    )\n",
    ")\n",
    "\n",
    "circle = Circle(x=\"lon\", y=\"lat\", size=100, fill_alpha=0.4, line_color=\"#3288bd\", \n",
    "                fill_color=\"white\", line_width=7)\n",
    "plot.add_glyph(source, circle)\n",
    "\n",
    "output_notebook()\n",
    "\n",
    "show(plot)"
   ]
  },
  {
   "cell_type": "markdown",
   "metadata": {},
   "source": [
    "# Importing and Editing Data"
   ]
  },
  {
   "cell_type": "markdown",
   "metadata": {},
   "source": [
    "We took the raw data from KNMI (Koninklijik Nederlands Meteorologisch Instituut) Climate Explorer web site as text files."
   ]
  },
  {
   "cell_type": "markdown",
   "metadata": {},
   "source": [
    "#### In this part, we are taking the the data from text files using pandas and we are cleaninig it. At the end of transactions, we wil have clean data between 1958 and 2003."
   ]
  },
  {
   "cell_type": "markdown",
   "metadata": {},
   "source": [
    "#### To show how we did it, we are editing the \"Daily Minimum Temperatures of İstanbul\" as an example. (We did this transactions for every 7 cities and their daily precipitations, minimum,maximum and mean temperaures.)"
   ]
  },
  {
   "cell_type": "markdown",
   "metadata": {},
   "source": [
    "#### We took the data as a textfile and we saved it in pandas dataframe."
   ]
  },
  {
   "cell_type": "code",
   "execution_count": 4,
   "metadata": {},
   "outputs": [],
   "source": [
    "import pandas as pd\n",
    "from datetime import datetime\n",
    "\n",
    "Istanbul_DMinT = pd.read_fwf('istanbul_daily_min_temp.txt', header=None, \n",
    "                 delim_whitespace=True, skiprows=17, names=('Year', 'Month', 'Day', 'Istanbul_DMinT'))\n"
   ]
  },
  {
   "cell_type": "code",
   "execution_count": 5,
   "metadata": {},
   "outputs": [
    {
     "data": {
      "text/html": [
       "<div>\n",
       "<style scoped>\n",
       "    .dataframe tbody tr th:only-of-type {\n",
       "        vertical-align: middle;\n",
       "    }\n",
       "\n",
       "    .dataframe tbody tr th {\n",
       "        vertical-align: top;\n",
       "    }\n",
       "\n",
       "    .dataframe thead th {\n",
       "        text-align: right;\n",
       "    }\n",
       "</style>\n",
       "<table border=\"1\" class=\"dataframe\">\n",
       "  <thead>\n",
       "    <tr style=\"text-align: right;\">\n",
       "      <th></th>\n",
       "      <th>Year</th>\n",
       "      <th>Month</th>\n",
       "      <th>Day</th>\n",
       "      <th>Istanbul_DMinT</th>\n",
       "    </tr>\n",
       "  </thead>\n",
       "  <tbody>\n",
       "    <tr>\n",
       "      <th>0</th>\n",
       "      <td>1929</td>\n",
       "      <td>1</td>\n",
       "      <td>1</td>\n",
       "      <td>9.7</td>\n",
       "    </tr>\n",
       "    <tr>\n",
       "      <th>1</th>\n",
       "      <td>1929</td>\n",
       "      <td>1</td>\n",
       "      <td>2</td>\n",
       "      <td>10.2</td>\n",
       "    </tr>\n",
       "  </tbody>\n",
       "</table>\n",
       "</div>"
      ],
      "text/plain": [
       "   Year  Month  Day  Istanbul_DMinT\n",
       "0  1929      1    1             9.7\n",
       "1  1929      1    2            10.2"
      ]
     },
     "execution_count": 5,
     "metadata": {},
     "output_type": "execute_result"
    }
   ],
   "source": [
    "Istanbul_DMinT.head(2)"
   ]
  },
  {
   "cell_type": "markdown",
   "metadata": {},
   "source": [
    "#### After that we filtered the data between 1958 and 2003."
   ]
  },
  {
   "cell_type": "code",
   "execution_count": 6,
   "metadata": {},
   "outputs": [
    {
     "data": {
      "text/html": [
       "<div>\n",
       "<style scoped>\n",
       "    .dataframe tbody tr th:only-of-type {\n",
       "        vertical-align: middle;\n",
       "    }\n",
       "\n",
       "    .dataframe tbody tr th {\n",
       "        vertical-align: top;\n",
       "    }\n",
       "\n",
       "    .dataframe thead th {\n",
       "        text-align: right;\n",
       "    }\n",
       "</style>\n",
       "<table border=\"1\" class=\"dataframe\">\n",
       "  <thead>\n",
       "    <tr style=\"text-align: right;\">\n",
       "      <th></th>\n",
       "      <th>Year</th>\n",
       "      <th>Month</th>\n",
       "      <th>Day</th>\n",
       "      <th>Istanbul_DMinT</th>\n",
       "    </tr>\n",
       "  </thead>\n",
       "  <tbody>\n",
       "    <tr>\n",
       "      <th>10592</th>\n",
       "      <td>1958</td>\n",
       "      <td>1</td>\n",
       "      <td>1</td>\n",
       "      <td>6.3</td>\n",
       "    </tr>\n",
       "    <tr>\n",
       "      <th>10593</th>\n",
       "      <td>1958</td>\n",
       "      <td>1</td>\n",
       "      <td>2</td>\n",
       "      <td>6.3</td>\n",
       "    </tr>\n",
       "  </tbody>\n",
       "</table>\n",
       "</div>"
      ],
      "text/plain": [
       "       Year  Month  Day  Istanbul_DMinT\n",
       "10592  1958      1    1             6.3\n",
       "10593  1958      1    2             6.3"
      ]
     },
     "execution_count": 6,
     "metadata": {},
     "output_type": "execute_result"
    }
   ],
   "source": [
    "#Get values of indexes for which column Year less than 1958 or higher than 2003.\n",
    "Istanbul = Istanbul_DMinT[Istanbul_DMinT['Year'] < 1958].index\n",
    "#Delete these row indexes from dataFrame\n",
    "Istanbul_DMinT.drop(Istanbul , inplace=True)\n",
    "\n",
    "Istanbul = Istanbul_DMinT[Istanbul_DMinT['Year'] > 2003].index\n",
    "Istanbul_DMinT.drop(Istanbul , inplace=True)\n",
    "\n",
    "Istanbul_DMinT.head(2)"
   ]
  },
  {
   "cell_type": "markdown",
   "metadata": {},
   "source": [
    "#### In here, we merged year, month and day as date. That will make our work easier to visualize data."
   ]
  },
  {
   "cell_type": "code",
   "execution_count": 7,
   "metadata": {},
   "outputs": [],
   "source": [
    "Istanbul_DMinT['Date'] = pd.to_datetime(Istanbul_DMinT[['Year', 'Month', 'Day']], \n",
    "                                        format='%Y%m%d', errors='coerce')"
   ]
  },
  {
   "cell_type": "code",
   "execution_count": 8,
   "metadata": {},
   "outputs": [
    {
     "data": {
      "text/html": [
       "<div>\n",
       "<style scoped>\n",
       "    .dataframe tbody tr th:only-of-type {\n",
       "        vertical-align: middle;\n",
       "    }\n",
       "\n",
       "    .dataframe tbody tr th {\n",
       "        vertical-align: top;\n",
       "    }\n",
       "\n",
       "    .dataframe thead th {\n",
       "        text-align: right;\n",
       "    }\n",
       "</style>\n",
       "<table border=\"1\" class=\"dataframe\">\n",
       "  <thead>\n",
       "    <tr style=\"text-align: right;\">\n",
       "      <th></th>\n",
       "      <th>Year</th>\n",
       "      <th>Month</th>\n",
       "      <th>Day</th>\n",
       "      <th>Istanbul_DMinT</th>\n",
       "      <th>Date</th>\n",
       "    </tr>\n",
       "  </thead>\n",
       "  <tbody>\n",
       "    <tr>\n",
       "      <th>10592</th>\n",
       "      <td>1958</td>\n",
       "      <td>1</td>\n",
       "      <td>1</td>\n",
       "      <td>6.3</td>\n",
       "      <td>1958-01-01</td>\n",
       "    </tr>\n",
       "    <tr>\n",
       "      <th>10593</th>\n",
       "      <td>1958</td>\n",
       "      <td>1</td>\n",
       "      <td>2</td>\n",
       "      <td>6.3</td>\n",
       "      <td>1958-01-02</td>\n",
       "    </tr>\n",
       "  </tbody>\n",
       "</table>\n",
       "</div>"
      ],
      "text/plain": [
       "       Year  Month  Day  Istanbul_DMinT       Date\n",
       "10592  1958      1    1             6.3 1958-01-01\n",
       "10593  1958      1    2             6.3 1958-01-02"
      ]
     },
     "execution_count": 8,
     "metadata": {},
     "output_type": "execute_result"
    }
   ],
   "source": [
    "Istanbul_DMinT.head(2)"
   ]
  },
  {
   "cell_type": "markdown",
   "metadata": {},
   "source": [
    "#### Then, we change the location of the \"Date\" column as first. So that we could bring other cities temperatures regularly."
   ]
  },
  {
   "cell_type": "code",
   "execution_count": 9,
   "metadata": {},
   "outputs": [],
   "source": [
    "#Adds a new column (df['Date']) and reorders our dataframe so it's at the start now (i.e., the first column).\n",
    "cols = Istanbul_DMinT.columns.tolist()\n",
    "Istanbul_DMinT = Istanbul_DMinT[[cols[-1]] + cols[:-1]]"
   ]
  },
  {
   "cell_type": "code",
   "execution_count": 10,
   "metadata": {},
   "outputs": [
    {
     "data": {
      "text/html": [
       "<div>\n",
       "<style scoped>\n",
       "    .dataframe tbody tr th:only-of-type {\n",
       "        vertical-align: middle;\n",
       "    }\n",
       "\n",
       "    .dataframe tbody tr th {\n",
       "        vertical-align: top;\n",
       "    }\n",
       "\n",
       "    .dataframe thead th {\n",
       "        text-align: right;\n",
       "    }\n",
       "</style>\n",
       "<table border=\"1\" class=\"dataframe\">\n",
       "  <thead>\n",
       "    <tr style=\"text-align: right;\">\n",
       "      <th></th>\n",
       "      <th>Date</th>\n",
       "      <th>Year</th>\n",
       "      <th>Month</th>\n",
       "      <th>Day</th>\n",
       "      <th>Istanbul_DMinT</th>\n",
       "    </tr>\n",
       "  </thead>\n",
       "  <tbody>\n",
       "    <tr>\n",
       "      <th>10592</th>\n",
       "      <td>1958-01-01</td>\n",
       "      <td>1958</td>\n",
       "      <td>1</td>\n",
       "      <td>1</td>\n",
       "      <td>6.3</td>\n",
       "    </tr>\n",
       "    <tr>\n",
       "      <th>10593</th>\n",
       "      <td>1958-01-02</td>\n",
       "      <td>1958</td>\n",
       "      <td>1</td>\n",
       "      <td>2</td>\n",
       "      <td>6.3</td>\n",
       "    </tr>\n",
       "  </tbody>\n",
       "</table>\n",
       "</div>"
      ],
      "text/plain": [
       "            Date  Year  Month  Day  Istanbul_DMinT\n",
       "10592 1958-01-01  1958      1    1             6.3\n",
       "10593 1958-01-02  1958      1    2             6.3"
      ]
     },
     "execution_count": 10,
     "metadata": {},
     "output_type": "execute_result"
    }
   ],
   "source": [
    "Istanbul_DMinT.head(2)"
   ]
  },
  {
   "cell_type": "code",
   "execution_count": 11,
   "metadata": {},
   "outputs": [],
   "source": [
    "Date = Istanbul_DMinT['Date']"
   ]
  },
  {
   "cell_type": "markdown",
   "metadata": {},
   "source": [
    "#### Finally, we dropped the unimportant columns which are day, year and month. These are unimportant, because we have already had merged version of them as named \"Date\"."
   ]
  },
  {
   "cell_type": "code",
   "execution_count": 12,
   "metadata": {},
   "outputs": [
    {
     "data": {
      "text/html": [
       "<div>\n",
       "<style scoped>\n",
       "    .dataframe tbody tr th:only-of-type {\n",
       "        vertical-align: middle;\n",
       "    }\n",
       "\n",
       "    .dataframe tbody tr th {\n",
       "        vertical-align: top;\n",
       "    }\n",
       "\n",
       "    .dataframe thead th {\n",
       "        text-align: right;\n",
       "    }\n",
       "</style>\n",
       "<table border=\"1\" class=\"dataframe\">\n",
       "  <thead>\n",
       "    <tr style=\"text-align: right;\">\n",
       "      <th></th>\n",
       "      <th>Date</th>\n",
       "      <th>Year</th>\n",
       "      <th>Istanbul_DMinT</th>\n",
       "    </tr>\n",
       "  </thead>\n",
       "  <tbody>\n",
       "    <tr>\n",
       "      <th>0</th>\n",
       "      <td>1958-01-01</td>\n",
       "      <td>1958</td>\n",
       "      <td>6.3</td>\n",
       "    </tr>\n",
       "    <tr>\n",
       "      <th>1</th>\n",
       "      <td>1958-01-02</td>\n",
       "      <td>1958</td>\n",
       "      <td>6.3</td>\n",
       "    </tr>\n",
       "  </tbody>\n",
       "</table>\n",
       "</div>"
      ],
      "text/plain": [
       "        Date  Year  Istanbul_DMinT\n",
       "0 1958-01-01  1958             6.3\n",
       "1 1958-01-02  1958             6.3"
      ]
     },
     "execution_count": 12,
     "metadata": {},
     "output_type": "execute_result"
    }
   ],
   "source": [
    "Istanbul_DMinT.drop(['Month'],axis=1,inplace=True)\n",
    "Istanbul_DMinT.drop(['Day'],axis=1,inplace=True)\n",
    "Istanbul_DMinT.reset_index(drop=True, inplace=True)\n",
    "Istanbul_DMinT.head(2)"
   ]
  },
  {
   "cell_type": "markdown",
   "metadata": {},
   "source": [
    "#### The dataframe above is last situation of Istanbul Daily Minimum Temperatures."
   ]
  },
  {
   "cell_type": "markdown",
   "metadata": {},
   "source": [
    "#### Here, we did the steps that we have just showed. We did all these steps for every cities and every values like daily maximum temperature, daily precipitation, daily mean temperatures, etc."
   ]
  },
  {
   "cell_type": "markdown",
   "metadata": {},
   "source": [
    "### Why did we edit the data one by one?\n",
    "You could ask that why we edited all the data one by one. You can say that it is sensible to create a function that receive the data, so we wouldn't have to write same things again and again.\n",
    "\n",
    "However, we have so many disorganized data. There are so many text files to edit and each file is different. If there is only one file, it is better to create a function for editing the data, but we have so many files. Thus, we decided that it is better to edit the data one by one."
   ]
  },
  {
   "cell_type": "markdown",
   "metadata": {},
   "source": [
    "#### We took the other cities of _daily precipitation_ data as textfiles and we saved them in pandas dataframe. We skipped first 17 rows, because there were unnecessary."
   ]
  },
  {
   "cell_type": "code",
   "execution_count": 13,
   "metadata": {},
   "outputs": [],
   "source": [
    "#We will assign the daily precipitation for each city.\n",
    "Istanbul_DPrec = pd.read_fwf('istanbul_precipitation.txt', header=None, \n",
    "                 delim_whitespace=True, skiprows=17, names=('Year', 'Month', 'Day', 'Istanbul_DPrec'))\n",
    "\n",
    "Kastamonu_DPrec = pd.read_fwf('kastamonu_precipitation.txt', header=None, \n",
    "                 delim_whitespace=True, skiprows=17, names=('Year', 'Month', 'Day', 'Kastamonu_DPrec'))\n",
    "\n",
    "Rize_DPrec = pd.read_fwf('rize_precipitation.txt', header=None, \n",
    "                 delim_whitespace=True, skiprows=17, names=('Year', 'Month', 'Day', 'Rize_DPrec'))\n",
    "\n",
    "Sivas_DPrec = pd.read_fwf('sivas_precipitation.txt', header=None, \n",
    "                 delim_whitespace=True, skiprows=17, names=('Year', 'Month', 'Day', 'Sivas_DPrec'))\n",
    "\n",
    "Van_DPrec = pd.read_fwf('van_precipitation.txt', header=None, \n",
    "                 delim_whitespace=True, skiprows=17, names=('Year', 'Month', 'Day', 'Van_DPrec'))\n",
    "\n",
    "Antalya_DPrec = pd.read_fwf('antalya_precipitation.txt', header=None, \n",
    "                 delim_whitespace=True, skiprows=17, names=('Year', 'Month', 'Day', 'Antalya_DPrec'))\n",
    "\n",
    "Isparta_DPrec = pd.read_fwf('isparta_precipitation.txt', header=None, \n",
    "                 delim_whitespace=True, skiprows=17, names=('Year', 'Month', 'Day', 'Isparta_DPrec'))\n",
    "\n"
   ]
  },
  {
   "cell_type": "markdown",
   "metadata": {},
   "source": [
    "#### After that we filtered the data between 1958 and 2003."
   ]
  },
  {
   "cell_type": "code",
   "execution_count": 14,
   "metadata": {},
   "outputs": [],
   "source": [
    "#Get values of indexes for which column Year less than 1958 or higher than 2003.\n",
    "Istanbul = Istanbul_DPrec[Istanbul_DPrec['Year'] < 1958].index\n",
    "Istanbul_DPrec.drop(Istanbul , inplace=True)\n",
    "Istanbul = Istanbul_DPrec[Istanbul_DPrec['Year'] > 2003].index\n",
    "Istanbul_DPrec.drop(Istanbul , inplace=True)\n",
    "\n",
    "Kastamonu = Kastamonu_DPrec[Kastamonu_DPrec['Year'] < 1958].index\n",
    "Kastamonu_DPrec.drop(Kastamonu , inplace=True)\n",
    "Kastamonu = Kastamonu_DPrec[Kastamonu_DPrec['Year'] > 2003].index\n",
    "Kastamonu_DPrec.drop(Kastamonu , inplace=True)\n",
    "\n",
    "Rize = Rize_DPrec[Rize_DPrec['Year'] < 1958].index\n",
    "Rize_DPrec.drop(Rize , inplace=True)\n",
    "Rize = Rize_DPrec[Rize_DPrec['Year'] > 2003].index\n",
    "Rize_DPrec.drop(Rize , inplace=True)\n",
    "\n",
    "Sivas = Sivas_DPrec[Sivas_DPrec['Year'] < 1958].index\n",
    "Sivas_DPrec.drop(Sivas , inplace=True)\n",
    "Sivas = Sivas_DPrec[Sivas_DPrec['Year'] > 2003].index\n",
    "Sivas_DPrec.drop(Sivas , inplace=True)\n",
    "\n",
    "Van = Van_DPrec[Van_DPrec['Year'] < 1958].index\n",
    "Van_DPrec.drop(Van , inplace=True)\n",
    "Van = Van_DPrec[Van_DPrec['Year'] > 2003].index\n",
    "Van_DPrec.drop(Van , inplace=True)\n",
    "\n",
    "Antalya = Antalya_DPrec[Antalya_DPrec['Year'] < 1958].index\n",
    "Antalya_DPrec.drop(Antalya , inplace=True)\n",
    "Antalya = Antalya_DPrec[Antalya_DPrec['Year'] > 2003].index\n",
    "Antalya_DPrec.drop(Antalya , inplace=True)\n",
    "\n",
    "Isparta = Isparta_DPrec[Isparta_DPrec['Year'] < 1958].index\n",
    "Isparta_DPrec.drop(Isparta , inplace=True)\n",
    "Isparta = Isparta_DPrec[Isparta_DPrec['Year'] > 2003].index\n",
    "Isparta_DPrec.drop(Isparta , inplace=True)"
   ]
  },
  {
   "cell_type": "markdown",
   "metadata": {},
   "source": [
    "#### We took the each 7 cities of _daily mean temperature as_ textfiles and we saved them in pandas dataframe. We skipped first 17 rows, because there were unnecessary."
   ]
  },
  {
   "cell_type": "code",
   "execution_count": 15,
   "metadata": {},
   "outputs": [],
   "source": [
    "#We will assign the daily mean temperature for each city.\n",
    "Istanbul_DMeanT = pd.read_fwf('istanbul_daily_mean_temp.txt', header=None, \n",
    "                 delim_whitespace=True, skiprows=17, names=('Year', 'Month', 'Day', 'Istanbul_DMeanT'))\n",
    "\n",
    "Kastamonu_DMeanT = pd.read_fwf('kastamonu_daily_mean_temp.txt', header=None, \n",
    "                 delim_whitespace=True, skiprows=17, names=('Year', 'Month', 'Day', 'Kastamonu_DMeanT'))\n",
    "\n",
    "Rize_DMeanT = pd.read_fwf('rize_daily_mean_temp.txt', header=None, \n",
    "                 delim_whitespace=True, skiprows=17, names=('Year', 'Month', 'Day', 'Rize_DMeanT'))\n",
    "\n",
    "Sivas_DMeanT = pd.read_fwf('sivas_daily_mean_temp.txt', header=None, \n",
    "                 delim_whitespace=True, skiprows=17, names=('Year', 'Month', 'Day', 'Sivas_DMeanT'))\n",
    "\n",
    "Van_DMeanT = pd.read_fwf('van_daily_mean_temp.txt', header=None, \n",
    "                 delim_whitespace=True, skiprows=17, names=('Year', 'Month', 'Day', 'Van_DMeanT'))\n",
    "\n",
    "Antalya_DMeanT = pd.read_fwf('antalya_daily_mean_temp.txt', header=None, \n",
    "                 delim_whitespace=True, skiprows=17, names=('Year', 'Month', 'Day', 'Antalya_DMeanT'))\n",
    "\n",
    "Isparta_DMeanT = pd.read_fwf('isparta_daily_mean_temp.txt', header=None, \n",
    "                 delim_whitespace=True, skiprows=17, names=('Year', 'Month', 'Day', 'Isparta_DMeanT'))"
   ]
  },
  {
   "cell_type": "markdown",
   "metadata": {},
   "source": [
    "#### After that we filtered the data between 1958 and 2003."
   ]
  },
  {
   "cell_type": "code",
   "execution_count": 16,
   "metadata": {},
   "outputs": [],
   "source": [
    "#Get values of indexes for which column Year less than 1958 or higher than 2003.\n",
    "Istanbul = Istanbul_DMeanT[Istanbul_DMeanT['Year'] < 1958].index\n",
    "Istanbul_DMeanT.drop(Istanbul , inplace=True)\n",
    "Istanbul = Istanbul_DMeanT[Istanbul_DMeanT['Year'] > 2003].index\n",
    "Istanbul_DMeanT.drop(Istanbul , inplace=True)\n",
    "\n",
    "Kastamonu = Kastamonu_DMeanT[Kastamonu_DMeanT['Year'] < 1958].index\n",
    "Kastamonu_DMeanT.drop(Kastamonu , inplace=True)\n",
    "Kastamonu = Kastamonu_DMeanT[Kastamonu_DMeanT['Year'] > 2003].index\n",
    "Kastamonu_DMeanT.drop(Kastamonu , inplace=True)\n",
    "\n",
    "Rize = Rize_DMeanT[Rize_DMeanT['Year'] < 1958].index\n",
    "Rize_DMeanT.drop(Rize , inplace=True)\n",
    "Rize = Rize_DMeanT[Rize_DMeanT['Year'] > 2003].index\n",
    "Rize_DMeanT.drop(Rize , inplace=True)\n",
    "\n",
    "Sivas = Sivas_DMeanT[Sivas_DMeanT['Year'] < 1958].index\n",
    "Sivas_DMeanT.drop(Sivas , inplace=True)\n",
    "Sivas = Sivas_DMeanT[Sivas_DMeanT['Year'] > 2003].index\n",
    "Sivas_DMeanT.drop(Sivas , inplace=True)\n",
    "\n",
    "Van = Van_DMeanT[Van_DMeanT['Year'] < 1958].index\n",
    "Van_DMeanT.drop(Van , inplace=True)\n",
    "Van = Van_DMeanT[Van_DMeanT['Year'] > 2003].index\n",
    "Van_DMeanT.drop(Van , inplace=True)\n",
    "\n",
    "Antalya = Antalya_DMeanT[Antalya_DMeanT['Year'] < 1958].index\n",
    "Antalya_DMeanT.drop(Antalya , inplace=True)\n",
    "Antalya = Antalya_DMeanT[Antalya_DMeanT['Year'] > 2003].index\n",
    "Antalya_DMeanT.drop(Antalya , inplace=True)\n",
    "\n",
    "Isparta = Isparta_DMeanT[Isparta_DMeanT['Year'] < 1958].index\n",
    "Isparta_DMeanT.drop(Isparta , inplace=True)\n",
    "Isparta = Isparta_DMeanT[Isparta_DMeanT['Year'] > 2003].index\n",
    "Isparta_DMeanT.drop(Isparta , inplace=True)"
   ]
  },
  {
   "cell_type": "markdown",
   "metadata": {},
   "source": [
    "#### We took the each 7 cities of _daily minimum temperature_ as textfiles and we saved them in pandas dataframe. We skipped first 17 rows, because there were unnecessary."
   ]
  },
  {
   "cell_type": "code",
   "execution_count": 17,
   "metadata": {},
   "outputs": [],
   "source": [
    "#We will assign the daily minimum temperature for each city.\n",
    "\n",
    "Kastamonu_DMinT = pd.read_fwf('kastamonu_daily_min_temp.txt', header=None, \n",
    "                 delim_whitespace=True, skiprows=17, names=('Year', 'Month', 'Day', 'Kastamonu_DMinT'))\n",
    "\n",
    "Rize_DMinT = pd.read_fwf('rize_daily_min_temp.txt', header=None, \n",
    "                 delim_whitespace=True, skiprows=17, names=('Year', 'Month', 'Day', 'Rize_DMinT'))\n",
    "\n",
    "Sivas_DMinT = pd.read_fwf('sivas_daily_min_temp.txt', header=None, \n",
    "                 delim_whitespace=True, skiprows=17, names=('Year', 'Month', 'Day', 'Sivas_DMinT'))\n",
    "\n",
    "Van_DMinT = pd.read_fwf('van_daily_min_temp.txt', header=None, \n",
    "                 delim_whitespace=True, skiprows=17, names=('Year', 'Month', 'Day', 'Van_DMinT'))\n",
    "\n",
    "Antalya_DMinT = pd.read_fwf('antalya_daily_min_temp.txt', header=None, \n",
    "                 delim_whitespace=True, skiprows=17, names=('Year', 'Month', 'Day', 'Antalya_DMinT'))\n",
    "\n",
    "Isparta_DMinT = pd.read_fwf('isparta_daily_min_temp.txt', header=None, \n",
    "                 delim_whitespace=True, skiprows=17, names=('Year', 'Month', 'Day', 'Isparta_DMinT'))"
   ]
  },
  {
   "cell_type": "markdown",
   "metadata": {},
   "source": [
    "#### After that we filtered the data between 1958 and 2003."
   ]
  },
  {
   "cell_type": "code",
   "execution_count": 18,
   "metadata": {},
   "outputs": [],
   "source": [
    "#Get values of indexes for which column Year less than 1958 or higher than 2003.\n",
    "#Istanbul created before. (above)\n",
    "\n",
    "Kastamonu = Kastamonu_DMinT[Kastamonu_DMinT['Year'] < 1958].index\n",
    "Kastamonu_DMinT.drop(Kastamonu , inplace=True)\n",
    "Kastamonu = Kastamonu_DMinT[Kastamonu_DMinT['Year'] > 2003].index\n",
    "Kastamonu_DMinT.drop(Kastamonu , inplace=True)\n",
    "\n",
    "Rize = Rize_DMinT[Rize_DMinT['Year'] < 1958].index\n",
    "Rize_DMinT.drop(Rize , inplace=True)\n",
    "Rize = Rize_DMinT[Rize_DMinT['Year'] > 2003].index\n",
    "Rize_DMinT.drop(Rize , inplace=True)\n",
    "\n",
    "Sivas = Sivas_DMinT[Sivas_DMinT['Year'] < 1958].index\n",
    "Sivas_DMinT.drop(Sivas , inplace=True)\n",
    "Sivas = Sivas_DMinT[Sivas_DMinT['Year'] > 2003].index\n",
    "Sivas_DMinT.drop(Sivas , inplace=True)\n",
    "\n",
    "Van = Van_DMinT[Van_DMinT['Year'] < 1958].index\n",
    "Van_DMinT.drop(Van , inplace=True)\n",
    "Van = Van_DMinT[Van_DMinT['Year'] > 2003].index\n",
    "Van_DMinT.drop(Van , inplace=True)\n",
    "\n",
    "Antalya = Antalya_DMinT[Antalya_DMinT['Year'] < 1958].index\n",
    "Antalya_DMinT.drop(Antalya , inplace=True)\n",
    "Antalya = Antalya_DMinT[Antalya_DMinT['Year'] > 2003].index\n",
    "Antalya_DMinT.drop(Antalya , inplace=True)\n",
    "\n",
    "Isparta = Isparta_DMinT[Isparta_DMinT['Year'] < 1958].index\n",
    "Isparta_DMinT.drop(Isparta , inplace=True)\n",
    "Isparta = Isparta_DMinT[Isparta_DMinT['Year'] > 2003].index\n",
    "Isparta_DMinT.drop(Isparta , inplace=True)"
   ]
  },
  {
   "cell_type": "markdown",
   "metadata": {},
   "source": [
    "#### We took the each 7 cities of _daily maximum temperature_ as textfiles and we saved them in pandas dataframe. We skipped first 17 rows, because there were unnecessary."
   ]
  },
  {
   "cell_type": "code",
   "execution_count": 19,
   "metadata": {},
   "outputs": [],
   "source": [
    "#We will assign the daily maximum temperature for each city.\n",
    "Istanbul_DMaxT = pd.read_fwf('istanbul_daily_max_temp.txt', header=None, \n",
    "                 delim_whitespace=True, skiprows=17, names=('Year', 'Month', 'Day', 'Istanbul_DMaxT'))\n",
    "\n",
    "Kastamonu_DMaxT = pd.read_fwf('kastamonu_daily_max_temp.txt', header=None, \n",
    "                 delim_whitespace=True, skiprows=17, names=('Year', 'Month', 'Day', 'Kastamonu_DMaxT'))\n",
    "\n",
    "Rize_DMaxT = pd.read_fwf('rize_daily_max_temp.txt', header=None, \n",
    "                 delim_whitespace=True, skiprows=17, names=('Year', 'Month', 'Day', 'Rize_DMaxT'))\n",
    "\n",
    "Sivas_DMaxT = pd.read_fwf('sivas_daily_max_temp.txt', header=None, \n",
    "                 delim_whitespace=True, skiprows=17, names=('Year', 'Month', 'Day', 'Sivas_DMaxT'))\n",
    "\n",
    "Van_DMaxT = pd.read_fwf('van_daily_max_temp.txt', header=None, \n",
    "                 delim_whitespace=True, skiprows=17, names=('Year', 'Month', 'Day', 'Van_DMaxT'))\n",
    "\n",
    "Antalya_DMaxT = pd.read_fwf('antalya_daily_max_temp.txt', header=None, \n",
    "                 delim_whitespace=True, skiprows=17, names=('Year', 'Month', 'Day', 'Antalya_DMaxT'))\n",
    "\n",
    "Isparta_DMaxT = pd.read_fwf('isparta_daily_max_temp.txt', header=None, \n",
    "                 delim_whitespace=True, skiprows=17, names=('Year', 'Month', 'Day', 'Isparta_DMaxT'))"
   ]
  },
  {
   "cell_type": "markdown",
   "metadata": {},
   "source": [
    "#### After that we filtered the data between 1958 and 2003."
   ]
  },
  {
   "cell_type": "code",
   "execution_count": 20,
   "metadata": {},
   "outputs": [],
   "source": [
    "#Get values of indexes for which column Year less than 1958 or higher than 2003.\n",
    "Istanbul = Istanbul_DMaxT[Istanbul_DMaxT['Year'] < 1958].index\n",
    "Istanbul_DMaxT.drop(Istanbul , inplace=True)\n",
    "Istanbul = Istanbul_DMaxT[Istanbul_DMaxT['Year'] > 2003].index\n",
    "Istanbul_DMaxT.drop(Istanbul , inplace=True)\n",
    "\n",
    "Kastamonu = Kastamonu_DMaxT[Kastamonu_DMaxT['Year'] < 1958].index\n",
    "Kastamonu_DMaxT.drop(Kastamonu , inplace=True)\n",
    "Kastamonu = Kastamonu_DMaxT[Kastamonu_DMaxT['Year'] > 2003].index\n",
    "Kastamonu_DMaxT.drop(Kastamonu , inplace=True)\n",
    "\n",
    "Rize = Rize_DMaxT[Rize_DMaxT['Year'] < 1958].index\n",
    "Rize_DMaxT.drop(Rize , inplace=True)\n",
    "Rize = Rize_DMaxT[Rize_DMaxT['Year'] > 2003].index\n",
    "Rize_DMaxT.drop(Rize , inplace=True)\n",
    "\n",
    "Sivas = Sivas_DMaxT[Sivas_DMaxT['Year'] < 1958].index\n",
    "Sivas_DMaxT.drop(Sivas , inplace=True)\n",
    "Sivas = Sivas_DMaxT[Sivas_DMaxT['Year'] > 2003].index\n",
    "Sivas_DMaxT.drop(Sivas , inplace=True)\n",
    "\n",
    "Van = Van_DMaxT[Van_DMaxT['Year'] < 1958].index\n",
    "Van_DMaxT.drop(Van , inplace=True)\n",
    "Van = Van_DMaxT[Van_DMaxT['Year'] > 2003].index\n",
    "Van_DMaxT.drop(Van , inplace=True)\n",
    "\n",
    "Antalya = Antalya_DMaxT[Antalya_DMaxT['Year'] < 1958].index\n",
    "Antalya_DMaxT.drop(Antalya , inplace=True)\n",
    "Antalya = Antalya_DMaxT[Antalya_DMaxT['Year'] > 2003].index\n",
    "Antalya_DMaxT.drop(Antalya , inplace=True)\n",
    "\n",
    "Isparta = Isparta_DMaxT[Isparta_DMaxT['Year'] < 1958].index\n",
    "Isparta_DMaxT.drop(Isparta , inplace=True)\n",
    "Isparta = Isparta_DMaxT[Isparta_DMaxT['Year'] > 2003].index\n",
    "Isparta_DMaxT.drop(Isparta , inplace=True)"
   ]
  },
  {
   "cell_type": "markdown",
   "metadata": {},
   "source": [
    "#### Here, we find out that we need the data's of years. So, we decided that it is better to take backups of them. We backupped the data of the _daily precipitation_ and then dropped the unimportant columns which are day and month. "
   ]
  },
  {
   "cell_type": "code",
   "execution_count": 21,
   "metadata": {},
   "outputs": [],
   "source": [
    "#We can remove the unimportant columns 'Month' and 'Day' for each city.\n",
    "\n",
    "Istanbul_DP=Istanbul_DPrec\n",
    "\n",
    "Istanbul_DPrec.drop(['Month'],axis=1,inplace=True)\n",
    "Istanbul_DPrec.drop(['Day'],axis=1,inplace=True)\n",
    "Istanbul_DPrec.reset_index(drop=True, inplace=True)\n",
    "\n",
    "Kastamonu_DP=Kastamonu_DPrec\n",
    "\n",
    "Kastamonu_DPrec.drop(['Month'],axis=1,inplace=True)\n",
    "Kastamonu_DPrec.drop(['Day'],axis=1,inplace=True)\n",
    "Kastamonu_DPrec.reset_index(drop=True, inplace=True)\n",
    "\n",
    "Rize_DP=Rize_DPrec\n",
    "\n",
    "Rize_DPrec.drop(['Month'],axis=1,inplace=True)\n",
    "Rize_DPrec.drop(['Day'],axis=1,inplace=True)\n",
    "Rize_DPrec.reset_index(drop=True, inplace=True)\n",
    "\n",
    "Sivas_DP=Sivas_DPrec\n",
    "\n",
    "Sivas_DPrec.drop(['Month'],axis=1,inplace=True)\n",
    "Sivas_DPrec.drop(['Day'],axis=1,inplace=True)\n",
    "Sivas_DPrec.reset_index(drop=True, inplace=True)\n",
    "\n",
    "Van_DP=Van_DPrec\n",
    "\n",
    "Van_DPrec.drop(['Month'],axis=1,inplace=True)\n",
    "Van_DPrec.drop(['Day'],axis=1,inplace=True)\n",
    "Van_DPrec.reset_index(drop=True, inplace=True)\n",
    "\n",
    "Antalya_DP=Antalya_DPrec\n",
    "\n",
    "Antalya_DPrec.drop(['Month'],axis=1,inplace=True)\n",
    "Antalya_DPrec.drop(['Day'],axis=1,inplace=True)\n",
    "Antalya_DPrec.reset_index(drop=True, inplace=True)\n",
    "\n",
    "Isparta_DP=Isparta_DPrec\n",
    "\n",
    "Isparta_DPrec.drop(['Month'],axis=1,inplace=True)\n",
    "Isparta_DPrec.drop(['Day'],axis=1,inplace=True)\n",
    "Isparta_DPrec.reset_index(drop=True, inplace=True)"
   ]
  },
  {
   "cell_type": "markdown",
   "metadata": {},
   "source": [
    "#### We backupped the data of the _daily mean temperature_ and then dropped the unimportant columns which are day and month. "
   ]
  },
  {
   "cell_type": "code",
   "execution_count": 22,
   "metadata": {},
   "outputs": [],
   "source": [
    "Istanbul_DMean=Istanbul_DMeanT\n",
    "\n",
    "Istanbul_DMeanT.drop(['Month'],axis=1,inplace=True)\n",
    "Istanbul_DMeanT.drop(['Day'],axis=1,inplace=True)\n",
    "Istanbul_DMeanT.reset_index(drop=True, inplace=True)\n",
    "\n",
    "Kastamonu_DMean=Kastamonu_DMeanT\n",
    "\n",
    "Kastamonu_DMeanT.drop(['Month'],axis=1,inplace=True)\n",
    "Kastamonu_DMeanT.drop(['Day'],axis=1,inplace=True)\n",
    "Kastamonu_DMeanT.reset_index(drop=True, inplace=True)\n",
    "\n",
    "Rize_DMean=Rize_DMeanT\n",
    "\n",
    "Rize_DMeanT.drop(['Month'],axis=1,inplace=True)\n",
    "Rize_DMeanT.drop(['Day'],axis=1,inplace=True)\n",
    "Rize_DMeanT.reset_index(drop=True, inplace=True)\n",
    "\n",
    "Sivas_DMean=Sivas_DMeanT\n",
    "\n",
    "Sivas_DMeanT.drop(['Month'],axis=1,inplace=True)\n",
    "Sivas_DMeanT.drop(['Day'],axis=1,inplace=True)\n",
    "Sivas_DMeanT.reset_index(drop=True, inplace=True)\n",
    "\n",
    "Van_DMean=Van_DMeanT\n",
    "\n",
    "Van_DMeanT.drop(['Month'],axis=1,inplace=True)\n",
    "Van_DMeanT.drop(['Day'],axis=1,inplace=True)\n",
    "Van_DMeanT.reset_index(drop=True, inplace=True)\n",
    "\n",
    "Antalya_DMean=Antalya_DMeanT\n",
    "\n",
    "Antalya_DMeanT.drop(['Month'],axis=1,inplace=True)\n",
    "Antalya_DMeanT.drop(['Day'],axis=1,inplace=True)\n",
    "Antalya_DMeanT.reset_index(drop=True, inplace=True)\n",
    "\n",
    "Isparta_DMean=Isparta_DMeanT\n",
    "\n",
    "Isparta_DMeanT.drop(['Month'],axis=1,inplace=True)\n",
    "Isparta_DMeanT.drop(['Day'],axis=1,inplace=True)\n",
    "Isparta_DMeanT.reset_index(drop=True, inplace=True)"
   ]
  },
  {
   "cell_type": "markdown",
   "metadata": {},
   "source": [
    "#### We backupped the data of the _daily minimum temperature_ and then dropped the unimportant columns which are day and month. "
   ]
  },
  {
   "cell_type": "code",
   "execution_count": 23,
   "metadata": {},
   "outputs": [],
   "source": [
    "Kastamonu_DMin=Kastamonu_DMinT\n",
    "\n",
    "Kastamonu_DMinT.drop(['Month'],axis=1,inplace=True)\n",
    "Kastamonu_DMinT.drop(['Day'],axis=1,inplace=True)\n",
    "Kastamonu_DMinT.reset_index(drop=True, inplace=True)\n",
    "\n",
    "Rize_DMin=Rize_DMinT\n",
    "\n",
    "Rize_DMinT.drop(['Month'],axis=1,inplace=True)\n",
    "Rize_DMinT.drop(['Day'],axis=1,inplace=True)\n",
    "Rize_DMinT.reset_index(drop=True, inplace=True)\n",
    "\n",
    "Sivas_DMin=Sivas_DMinT\n",
    "\n",
    "Sivas_DMinT.drop(['Month'],axis=1,inplace=True)\n",
    "Sivas_DMinT.drop(['Day'],axis=1,inplace=True)\n",
    "Sivas_DMinT.reset_index(drop=True, inplace=True)\n",
    "\n",
    "Van_DMin=Van_DMinT\n",
    "\n",
    "Van_DMinT.drop(['Month'],axis=1,inplace=True)\n",
    "Van_DMinT.drop(['Day'],axis=1,inplace=True)\n",
    "Van_DMinT.reset_index(drop=True, inplace=True)\n",
    "\n",
    "Antalya_DMin=Antalya_DMinT\n",
    "\n",
    "Antalya_DMinT.drop(['Month'],axis=1,inplace=True)\n",
    "Antalya_DMinT.drop(['Day'],axis=1,inplace=True)\n",
    "Antalya_DMinT.reset_index(drop=True, inplace=True)\n",
    "\n",
    "Isparta_DMin=Isparta_DMinT\n",
    "\n",
    "Isparta_DMinT.drop(['Month'],axis=1,inplace=True)\n",
    "Isparta_DMinT.drop(['Day'],axis=1,inplace=True)\n",
    "Isparta_DMinT.reset_index(drop=True, inplace=True)"
   ]
  },
  {
   "cell_type": "markdown",
   "metadata": {},
   "source": [
    "#### We backupped the data of the _daily maximum temperature_ and then dropped the unimportant columns which are day and month. "
   ]
  },
  {
   "cell_type": "code",
   "execution_count": 24,
   "metadata": {},
   "outputs": [],
   "source": [
    "Istanbul_DMax=Istanbul_DMaxT\n",
    "\n",
    "Istanbul_DMaxT.drop(['Month'],axis=1,inplace=True)\n",
    "Istanbul_DMaxT.drop(['Day'],axis=1,inplace=True)\n",
    "Istanbul_DMaxT.reset_index(drop=True, inplace=True)\n",
    "\n",
    "Kastamonu_DMax=Kastamonu_DMaxT\n",
    "\n",
    "Kastamonu_DMaxT.drop(['Month'],axis=1,inplace=True)\n",
    "Kastamonu_DMaxT.drop(['Day'],axis=1,inplace=True)\n",
    "Kastamonu_DMaxT.reset_index(drop=True, inplace=True)\n",
    "\n",
    "Rize_DMax=Rize_DMaxT\n",
    "\n",
    "Rize_DMaxT.drop(['Month'],axis=1,inplace=True)\n",
    "Rize_DMaxT.drop(['Day'],axis=1,inplace=True)\n",
    "Rize_DMaxT.reset_index(drop=True, inplace=True)\n",
    "\n",
    "Sivas_DMax=Sivas_DMaxT\n",
    "\n",
    "Sivas_DMaxT.drop(['Month'],axis=1,inplace=True)\n",
    "Sivas_DMaxT.drop(['Day'],axis=1,inplace=True)\n",
    "Sivas_DMaxT.reset_index(drop=True, inplace=True)\n",
    "\n",
    "Van_DMax=Van_DMaxT\n",
    "\n",
    "Van_DMaxT.drop(['Month'],axis=1,inplace=True)\n",
    "Van_DMaxT.drop(['Day'],axis=1,inplace=True)\n",
    "Van_DMaxT.reset_index(drop=True, inplace=True)\n",
    "\n",
    "Antalya_DMax=Antalya_DMaxT\n",
    "\n",
    "Antalya_DMaxT.drop(['Month'],axis=1,inplace=True)\n",
    "Antalya_DMaxT.drop(['Day'],axis=1,inplace=True)\n",
    "Antalya_DMaxT.reset_index(drop=True, inplace=True)\n",
    "\n",
    "Isparta_DMax=Isparta_DMaxT\n",
    "\n",
    "Isparta_DMaxT.drop(['Month'],axis=1,inplace=True)\n",
    "Isparta_DMaxT.drop(['Day'],axis=1,inplace=True)\n",
    "Isparta_DMaxT.reset_index(drop=True, inplace=True)"
   ]
  },
  {
   "cell_type": "markdown",
   "metadata": {},
   "source": [
    "### VISUALIZATION OF WEATHER DATA\n",
    "\n",
    "'Max Temperature': **pink color**\n",
    "\n",
    "'Mean Tempature': **brown color**\n",
    "\n",
    "'Min Tempature': **green color**"
   ]
  },
  {
   "cell_type": "markdown",
   "metadata": {},
   "source": [
    "#### In here, we visualised the min, max and mean temperature anomalies of İstanbul.\n",
    "#### From this graphic, we can deduce the temperature anomaly of İstanbul."
   ]
  },
  {
   "cell_type": "code",
   "execution_count": 25,
   "metadata": {},
   "outputs": [
    {
     "data": {
      "image/png": "[encoded data removed]",
      "text/plain": [
       "<Figure size 432x288 with 1 Axes>"
      ]
     },
     "metadata": {},
     "output_type": "display_data"
    }
   ],
   "source": [
    "plt.legend(('Max Temperature', 'Mean Tempature', 'Min Tempature'))\n",
    "plt.title('Istanbul Min, Max and Mean Temperature Anomalies')\n",
    "plt.xlabel('Year')\n",
    "plt.ylabel('Temperatures')\n",
    "plt.bar(Istanbul_DMaxT['Year'],Istanbul_DMaxT['Istanbul_DMaxT'])\n",
    "plt.bar(Istanbul_DMeanT['Year'],Istanbul_DMeanT['Istanbul_DMeanT'])\n",
    "plt.bar(Istanbul_DMinT['Year'],Istanbul_DMinT['Istanbul_DMinT'])\n",
    "plt.show()"
   ]
  },
  {
   "cell_type": "markdown",
   "metadata": {},
   "source": [
    "#### Here, we visualised the min, max and mean temperature anomalies of Kastamonu.\n",
    "#### From this graphic, we can deduce the temperature anomaly of Kastamonu."
   ]
  },
  {
   "cell_type": "code",
   "execution_count": 26,
   "metadata": {},
   "outputs": [
    {
     "data": {
      "image/png": "[encoded data removed]",
      "text/plain": [
       "<Figure size 432x288 with 1 Axes>"
      ]
     },
     "metadata": {},
     "output_type": "display_data"
    }
   ],
   "source": [
    "plt.legend(('Max Temperature', 'Mean Tempature', 'Min Tempature'))\n",
    "plt.title('Kastamonu Min, Max and Mean Temperature Anomalies')\n",
    "plt.xlabel('Years')\n",
    "plt.ylabel('Temperatures')\n",
    "plt.bar(Kastamonu_DMaxT['Year'],Kastamonu_DMaxT['Kastamonu_DMaxT'])\n",
    "plt.bar(Kastamonu_DMeanT['Year'],Kastamonu_DMeanT['Kastamonu_DMeanT'])\n",
    "plt.bar(Kastamonu_DMinT['Year'],Kastamonu_DMinT['Kastamonu_DMinT'])\n",
    "plt.show()"
   ]
  },
  {
   "cell_type": "markdown",
   "metadata": {},
   "source": [
    "#### Here, we visualised the min, max and mean temperature anomalies of Rize.\n",
    "#### From this graphic, we can deduce the temperature anomaly of Rize."
   ]
  },
  {
   "cell_type": "code",
   "execution_count": 27,
   "metadata": {},
   "outputs": [
    {
     "data": {
      "image/png": "[encoded data removed]",
      "text/plain": [
       "<Figure size 432x288 with 1 Axes>"
      ]
     },
     "metadata": {},
     "output_type": "display_data"
    }
   ],
   "source": [
    "plt.legend(('Max Temperature', 'Mean Tempature', 'Min Tempature'))\n",
    "plt.title('Rize Min, Max and Mean Temperature Anomalies')\n",
    "plt.xlabel('Years')\n",
    "plt.ylabel('Temperatures')\n",
    "plt.bar(Rize_DMaxT['Year'],Rize_DMaxT['Rize_DMaxT'])\n",
    "plt.bar(Rize_DMeanT['Year'],Rize_DMeanT['Rize_DMeanT'])\n",
    "plt.bar(Rize_DMinT['Year'],Rize_DMinT['Rize_DMinT'])\n",
    "plt.show()"
   ]
  },
  {
   "cell_type": "markdown",
   "metadata": {},
   "source": [
    "#### Here, we visualised the min, max and mean temperature anomalies of Sivas.\n",
    "#### From this graphic, we can deduce the temperature anomaly of Sivas."
   ]
  },
  {
   "cell_type": "code",
   "execution_count": 28,
   "metadata": {},
   "outputs": [
    {
     "data": {
      "image/png": "[encoded data removed]",
      "text/plain": [
       "<Figure size 432x288 with 1 Axes>"
      ]
     },
     "metadata": {},
     "output_type": "display_data"
    }
   ],
   "source": [
    "plt.legend(('Max Temperature', 'Mean Tempature', 'Min Tempature'))\n",
    "plt.title('Sivas Min, Max and Mean Temperature Anomalies')\n",
    "plt.xlabel('Years')\n",
    "plt.ylabel('Temperatures')\n",
    "plt.bar(Sivas_DMaxT['Year'],Sivas_DMaxT['Sivas_DMaxT'])\n",
    "plt.bar(Sivas_DMeanT['Year'],Sivas_DMeanT['Sivas_DMeanT'])\n",
    "plt.bar(Sivas_DMinT['Year'],Sivas_DMinT['Sivas_DMinT'])\n",
    "plt.show()"
   ]
  },
  {
   "cell_type": "markdown",
   "metadata": {},
   "source": [
    "#### Here, we visualised the min, max and mean temperature anomalies of Van.\n",
    "#### From this graphic, we can deduce the temperature anomaly of Van."
   ]
  },
  {
   "cell_type": "code",
   "execution_count": 29,
   "metadata": {},
   "outputs": [
    {
     "data": {
      "image/png": "[encoded data removed]",
      "text/plain": [
       "<Figure size 432x288 with 1 Axes>"
      ]
     },
     "metadata": {},
     "output_type": "display_data"
    }
   ],
   "source": [
    "plt.legend(('Max Temperature', 'Mean Tempature', 'Min Tempature'))\n",
    "plt.title('Van Min, Max and Mean Temperature Anomalies')\n",
    "plt.xlabel('Years')\n",
    "plt.ylabel('Temperatures')\n",
    "plt.bar(Van_DMaxT['Year'],Van_DMaxT['Van_DMaxT'])\n",
    "plt.bar(Van_DMeanT['Year'],Van_DMeanT['Van_DMeanT'])\n",
    "plt.bar(Van_DMinT['Year'],Van_DMinT['Van_DMinT'])\n",
    "plt.show()"
   ]
  },
  {
   "cell_type": "markdown",
   "metadata": {},
   "source": [
    "#### Here, we visualised the min, max and mean temperature anomalies of Antalya.\n",
    "#### From this graphic, we can deduce the temperature anomaly of Antalya."
   ]
  },
  {
   "cell_type": "code",
   "execution_count": 30,
   "metadata": {},
   "outputs": [
    {
     "data": {
      "image/png": "[encoded data removed]",
      "text/plain": [
       "<Figure size 432x288 with 1 Axes>"
      ]
     },
     "metadata": {},
     "output_type": "display_data"
    }
   ],
   "source": [
    "plt.legend(('Max Temperature', 'Mean Tempature', 'Min Tempature'))\n",
    "plt.title('Antalya Min, Max and Mean Temperature Anomalies')\n",
    "plt.xlabel('Years')\n",
    "plt.ylabel('Temperatures')\n",
    "plt.bar(Antalya_DMaxT['Year'],Antalya_DMaxT['Antalya_DMaxT'])\n",
    "plt.bar(Antalya_DMeanT['Year'],Antalya_DMeanT['Antalya_DMeanT'])\n",
    "plt.bar(Antalya_DMinT['Year'],Antalya_DMinT['Antalya_DMinT'])\n",
    "plt.show()"
   ]
  },
  {
   "cell_type": "markdown",
   "metadata": {},
   "source": [
    "#### Here, we visualised the min, max and mean temperature anomalies of Isparta.\n",
    "#### From this graphic, we can deduce the temperature anomaly of Isparta."
   ]
  },
  {
   "cell_type": "code",
   "execution_count": 31,
   "metadata": {},
   "outputs": [
    {
     "data": {
      "image/png": "[encoded data removed]",
      "text/plain": [
       "<Figure size 432x288 with 1 Axes>"
      ]
     },
     "metadata": {},
     "output_type": "display_data"
    }
   ],
   "source": [
    "plt.legend(('Max Temperature', 'Mean Tempature', 'Min Tempature'))\n",
    "plt.title('Isparta Min, Max and Mean Temperature Anomalies')\n",
    "plt.xlabel('Years')\n",
    "plt.ylabel('Temperatures')\n",
    "plt.bar(Isparta_DMaxT['Year'],Isparta_DMaxT['Isparta_DMaxT'])\n",
    "plt.bar(Isparta_DMeanT['Year'],Isparta_DMeanT['Isparta_DMeanT'])\n",
    "plt.bar(Isparta_DMinT['Year'],Isparta_DMinT['Isparta_DMinT'])\n",
    "plt.show()"
   ]
  },
  {
   "cell_type": "markdown",
   "metadata": {},
   "source": [
    "#### In here, we concatenate all dataframes in one dataframe for each city."
   ]
  },
  {
   "cell_type": "code",
   "execution_count": 32,
   "metadata": {},
   "outputs": [
    {
     "name": "stderr",
     "output_type": "stream",
     "text": [
      "C:\\Users\\SEZER\\Anaconda3\\lib\\site-packages\\pandas\\core\\indexes\\api.py:107: RuntimeWarning: '<' not supported between instances of 'int' and 'str', sort order is undefined for incomparable objects\n",
      "  result = result.union(other)\n"
     ]
    }
   ],
   "source": [
    "Date['Date'] = Date\n",
    "\n",
    "IstanbulWeather = pd.concat([\n",
    "                         Date['Date'],\n",
    "                         Istanbul_DMinT['Istanbul_DMinT'], \n",
    "                         Istanbul_DMaxT['Istanbul_DMaxT'], \n",
    "                         Istanbul_DMeanT['Istanbul_DMeanT']\n",
    "                        ], axis=1)\n",
    "                        \n",
    "KastamonuWeather = pd.concat([\n",
    "                         Date['Date'],\n",
    "                         Kastamonu_DMinT['Kastamonu_DMinT'], \n",
    "                         Kastamonu_DMaxT['Kastamonu_DMaxT'], \n",
    "                         Kastamonu_DMeanT['Kastamonu_DMeanT']\n",
    "                        ], axis=1)\n",
    "\n",
    "RizeWeather = pd.concat([\n",
    "                         Date['Date'],\n",
    "                         Rize_DMinT['Rize_DMinT'],\n",
    "                         Rize_DMaxT['Rize_DMaxT'],\n",
    "                         Rize_DMeanT['Rize_DMeanT']\n",
    "                        ], axis=1)\n",
    "                        \n",
    "SivasWeather = pd.concat([\n",
    "                         Date['Date'],\n",
    "                         Sivas_DMinT['Sivas_DMinT'],\n",
    "                         Sivas_DMaxT['Sivas_DMaxT'],\n",
    "                         Sivas_DMeanT['Sivas_DMeanT']\n",
    "                        ], axis=1)\n",
    "\n",
    "VanWeather = pd.concat([\n",
    "                         Date['Date'],\n",
    "                         Van_DMinT['Van_DMinT'], \n",
    "                         Van_DMaxT['Van_DMaxT'], \n",
    "                         Van_DMeanT['Van_DMeanT']\n",
    "                        ], axis=1)\n",
    "\n",
    "AntalyalWeather = pd.concat([\n",
    "                         Date['Date'],\n",
    "                         Antalya_DMinT['Antalya_DMinT'],\n",
    "                         Antalya_DMaxT['Antalya_DMaxT'],\n",
    "                         Antalya_DMeanT['Antalya_DMeanT']\n",
    "                        ], axis=1)\n",
    "                        \n",
    "IspartaWeather = pd.concat([\n",
    "                         Date['Date'],\n",
    "                         Isparta_DMinT['Isparta_DMinT'],\n",
    "                         Isparta_DMaxT['Isparta_DMaxT'],\n",
    "                         Isparta_DMeanT['Isparta_DMeanT']\n",
    "                        ], axis=1)\n",
    "                        "
   ]
  },
  {
   "cell_type": "markdown",
   "metadata": {},
   "source": [
    "#### We checked the number of null values here. So, we can see if there is any null data."
   ]
  },
  {
   "cell_type": "code",
   "execution_count": 33,
   "metadata": {},
   "outputs": [
    {
     "data": {
      "text/plain": [
       "Date               12145\n",
       "Istanbul_DMinT     10593\n",
       "Istanbul_DMaxT     10593\n",
       "Istanbul_DMeanT    10593\n",
       "dtype: int64"
      ]
     },
     "execution_count": 33,
     "metadata": {},
     "output_type": "execute_result"
    }
   ],
   "source": [
    "IstanbulWeather.isnull().sum()"
   ]
  },
  {
   "cell_type": "markdown",
   "metadata": {},
   "source": [
    "#### Using info(), we displayed all information of the data. We can see how much entries are there, what are the columns, what are the data times etc."
   ]
  },
  {
   "cell_type": "code",
   "execution_count": 34,
   "metadata": {},
   "outputs": [
    {
     "name": "stdout",
     "output_type": "stream",
     "text": [
      "<class 'pandas.core.frame.DataFrame'>\n",
      "Index: 27394 entries, 10592 to 10591\n",
      "Data columns (total 4 columns):\n",
      "Date               15249 non-null object\n",
      "Istanbul_DMinT     16801 non-null float64\n",
      "Istanbul_DMaxT     16801 non-null float64\n",
      "Istanbul_DMeanT    16801 non-null float64\n",
      "dtypes: float64(3), object(1)\n",
      "memory usage: 1.0+ MB\n"
     ]
    }
   ],
   "source": [
    "IstanbulWeather.info()"
   ]
  },
  {
   "cell_type": "markdown",
   "metadata": {},
   "source": [
    "#### Here are some statistical values that we will use for data visualization."
   ]
  },
  {
   "cell_type": "code",
   "execution_count": 35,
   "metadata": {
    "scrolled": true
   },
   "outputs": [
    {
     "data": {
      "text/html": [
       "<div>\n",
       "<style scoped>\n",
       "    .dataframe tbody tr th:only-of-type {\n",
       "        vertical-align: middle;\n",
       "    }\n",
       "\n",
       "    .dataframe tbody tr th {\n",
       "        vertical-align: top;\n",
       "    }\n",
       "\n",
       "    .dataframe thead th {\n",
       "        text-align: right;\n",
       "    }\n",
       "</style>\n",
       "<table border=\"1\" class=\"dataframe\">\n",
       "  <thead>\n",
       "    <tr style=\"text-align: right;\">\n",
       "      <th></th>\n",
       "      <th>Istanbul_DMinT</th>\n",
       "      <th>Istanbul_DMaxT</th>\n",
       "      <th>Istanbul_DMeanT</th>\n",
       "    </tr>\n",
       "  </thead>\n",
       "  <tbody>\n",
       "    <tr>\n",
       "      <th>count</th>\n",
       "      <td>16801.000000</td>\n",
       "      <td>16801.000000</td>\n",
       "      <td>16801.000000</td>\n",
       "    </tr>\n",
       "    <tr>\n",
       "      <th>mean</th>\n",
       "      <td>10.635843</td>\n",
       "      <td>18.523011</td>\n",
       "      <td>14.579305</td>\n",
       "    </tr>\n",
       "    <tr>\n",
       "      <th>std</th>\n",
       "      <td>6.469607</td>\n",
       "      <td>8.068825</td>\n",
       "      <td>7.135048</td>\n",
       "    </tr>\n",
       "    <tr>\n",
       "      <th>min</th>\n",
       "      <td>-9.600000</td>\n",
       "      <td>-3.200000</td>\n",
       "      <td>-5.400000</td>\n",
       "    </tr>\n",
       "    <tr>\n",
       "      <th>25%</th>\n",
       "      <td>5.400000</td>\n",
       "      <td>12.000000</td>\n",
       "      <td>8.700000</td>\n",
       "    </tr>\n",
       "    <tr>\n",
       "      <th>50%</th>\n",
       "      <td>10.700000</td>\n",
       "      <td>18.700000</td>\n",
       "      <td>14.600000</td>\n",
       "    </tr>\n",
       "    <tr>\n",
       "      <th>75%</th>\n",
       "      <td>16.000000</td>\n",
       "      <td>25.500000</td>\n",
       "      <td>20.800000</td>\n",
       "    </tr>\n",
       "    <tr>\n",
       "      <th>max</th>\n",
       "      <td>25.600000</td>\n",
       "      <td>40.500000</td>\n",
       "      <td>31.400000</td>\n",
       "    </tr>\n",
       "  </tbody>\n",
       "</table>\n",
       "</div>"
      ],
      "text/plain": [
       "       Istanbul_DMinT  Istanbul_DMaxT  Istanbul_DMeanT\n",
       "count    16801.000000    16801.000000     16801.000000\n",
       "mean        10.635843       18.523011        14.579305\n",
       "std          6.469607        8.068825         7.135048\n",
       "min         -9.600000       -3.200000        -5.400000\n",
       "25%          5.400000       12.000000         8.700000\n",
       "50%         10.700000       18.700000        14.600000\n",
       "75%         16.000000       25.500000        20.800000\n",
       "max         25.600000       40.500000        31.400000"
      ]
     },
     "execution_count": 35,
     "metadata": {},
     "output_type": "execute_result"
    }
   ],
   "source": [
    "IstanbulWeather.describe()"
   ]
  },
  {
   "cell_type": "markdown",
   "metadata": {},
   "source": [
    "# LINEAR REGRESSION"
   ]
  },
  {
   "cell_type": "markdown",
   "metadata": {},
   "source": [
    "We will focus on analyzing the trends in the data with the goal of selecting appropriate features for building a Linear Regression model using the statsmodels and scikit-learn Python libraries. We will discuss the importance of understanding the assumptions necessary for using a Linear Regression model and demonstrate how to evaluate the features to build a robust model."
   ]
  },
  {
   "cell_type": "markdown",
   "metadata": {},
   "source": [
    "In this regard, we have selected quite a few features while parsing the returned daily summary data to be used in our study. However, I fully expect that many of these will prove to be either uninformative in predicting weather temperatures or inappropriate candidates depending on the type of model being used but, the crux is that you simply do not know until you rigorously investigate the data."
   ]
  },
  {
   "cell_type": "markdown",
   "metadata": {},
   "source": [
    "As it turns out there are quite a few research articles on the topic and in 2016 Holmstrom, Liu, and Vo they describe using Linear Regression to do just that. In their article, Machine Learning Applied to Weather Forecasting, they used weather data on the prior two days for the following measurements.\n",
    "\n",
    "    max temperature\n",
    "    min temperature\n",
    "    mean humidity\n",
    "    mean atmospheric pressure"
   ]
  },
  {
   "cell_type": "markdown",
   "metadata": {},
   "source": [
    "In this project, we will use\n",
    "\n",
    "    max temperature\n",
    "    min temperature\n",
    "    mean temperature\n"
   ]
  },
  {
   "cell_type": "markdown",
   "metadata": {},
   "source": [
    "### **Linear Regression of IstanbulWeather**\n",
    "We will use the 'ols' function from the [statsmodels](http://www.statsmodels.org/stable/index.html) \n",
    "package to regress the Mean Tempature on some of the other variables. \n",
    "Your model should be of the form:\n",
    "$$\n",
    "\\text{ŷ} = \\beta_0 + \\beta_1 x + \\beta_(p-n) x(p-n)+ E\n",
    "$$\n",
    "\n",
    "$$\n",
    "\\text{Istanbul_DMeanT} = \\beta_0 + \\beta_1 x \n",
    "$$\n",
    "\n",
    "We'll find that the best predictor of Istanbul_DMeanT."
   ]
  },
  {
   "cell_type": "markdown",
   "metadata": {},
   "source": [
    "The generalized formula for a Linear Regression model is:    \n",
    "\n",
    "where:\n",
    "\n",
    "** ŷ ** is the predicted outcome variable (dependent variable)\n",
    "\n",
    "** xj ** are the predictor variables (independent variables) for j = 1,2,..., p-1 parameters\n",
    "\n",
    "** β0 ** is the intercept or the value of ŷ when each xj equals zero\n",
    "\n",
    "** βj ** is the change in ŷ based on a one unit change in one of the corresponding xj\n",
    "\n",
    "** Ε ** is a random error term associated with the difference between the predicted ŷi value and the actual yi value\n",
    "\n",
    "That last term in the equation for the Linear Regression is a very important one. The most basic form of building a Linear Regression model relies on an algorithm known as Ordinary Least Squares which finds the combination of βj's values which minimize the Ε term."
   ]
  },
  {
   "cell_type": "markdown",
   "metadata": {},
   "source": [
    "** Selecting Features for our Model **\n",
    "\n",
    "A key assumption required by the linear regression technique is that you have a linear relationship between the dependent variable and each independent variable. One way to assess the linearity between our independent variable, which for now will be the mean temperature, and the other independent variables is to calculate the Pearson correlation coefficient.\n",
    "\n",
    "The Pearson correlation coefficient (r) is a measurement of the amount of linear correlation between equal length arrays which outputs a value ranging -1 to 1. Correlation values ranging from 0 to 1 represent increasingly strong positive correlation. By this I mean that two data series are positively correlated when values in one data series increase simultaneously with the values in the other series and, as they both go up in increasingly equal magnitude the Pearson correlation value will approach 1.\n",
    "\n",
    "Correlation values from 0 to -1 are said to be inversely, or negatively, correlated in that when the values of one series increase the corresponding values in the opposite series decrease but, as changes in magnitude between the series become equal (with opposite direction) the correlation value will approach -1. Pearson correlation values that closely straddle either side of zero are suggestive to have a weak linear relationship, becoming weaker as the value approaches zero.\n",
    "\n",
    "Opinions vary among statisticians and stats books on clear-cut boundaries for the levels of strength of a correlation coefficient. However, I have found that a generally accepted set of classifications for the strengths of correlation are as follows:\n",
    "\n",
    "Correlation Value Interpretation\n",
    "\n",
    "    0.8 - 1.0 \tVery Strong\n",
    "    0.6 - 0.8 \tStrong\n",
    "    0.4 - 0.6 \tModerate\n",
    "    0.2 - 0.4 \tWeak\n",
    "    0.0 - 0.2 \tVery Weak\n",
    "\n",
    "To assess the correlation in this data I will call the corr() method of the Pandas DataFrame object. "
   ]
  },
  {
   "cell_type": "code",
   "execution_count": 36,
   "metadata": {},
   "outputs": [
    {
     "data": {
      "text/html": [
       "<div>\n",
       "<style scoped>\n",
       "    .dataframe tbody tr th:only-of-type {\n",
       "        vertical-align: middle;\n",
       "    }\n",
       "\n",
       "    .dataframe tbody tr th {\n",
       "        vertical-align: top;\n",
       "    }\n",
       "\n",
       "    .dataframe thead th {\n",
       "        text-align: right;\n",
       "    }\n",
       "</style>\n",
       "<table border=\"1\" class=\"dataframe\">\n",
       "  <thead>\n",
       "    <tr style=\"text-align: right;\">\n",
       "      <th></th>\n",
       "      <th>Istanbul_DMinT</th>\n",
       "      <th>Istanbul_DMaxT</th>\n",
       "      <th>Istanbul_DMeanT</th>\n",
       "    </tr>\n",
       "  </thead>\n",
       "  <tbody>\n",
       "    <tr>\n",
       "      <th>Istanbul_DMinT</th>\n",
       "      <td>1.00000</td>\n",
       "      <td>0.92597</td>\n",
       "      <td>0.97694</td>\n",
       "    </tr>\n",
       "    <tr>\n",
       "      <th>Istanbul_DMaxT</th>\n",
       "      <td>0.92597</td>\n",
       "      <td>1.00000</td>\n",
       "      <td>0.98522</td>\n",
       "    </tr>\n",
       "    <tr>\n",
       "      <th>Istanbul_DMeanT</th>\n",
       "      <td>0.97694</td>\n",
       "      <td>0.98522</td>\n",
       "      <td>1.00000</td>\n",
       "    </tr>\n",
       "  </tbody>\n",
       "</table>\n",
       "</div>"
      ],
      "text/plain": [
       "                 Istanbul_DMinT  Istanbul_DMaxT  Istanbul_DMeanT\n",
       "Istanbul_DMinT          1.00000         0.92597          0.97694\n",
       "Istanbul_DMaxT          0.92597         1.00000          0.98522\n",
       "Istanbul_DMeanT         0.97694         0.98522          1.00000"
      ]
     },
     "execution_count": 36,
     "metadata": {},
     "output_type": "execute_result"
    }
   ],
   "source": [
    "# Correlation of DataFrame\n",
    "IstanbulWeather.corr()"
   ]
  },
  {
   "cell_type": "markdown",
   "metadata": {},
   "source": [
    "**We would like to add to this information (below) by calculating another output column, \n",
    "indicating the existence of outliers. The rule of thumb to identifying \n",
    "an extreme outlier is a value that is less than 3 interquartile ranges below the 25th percentile, \n",
    "or 3 interquartile ranges above the 75th percentile. \n",
    "Interquartile range is simply the difference between the 75th percentile and the 25th percentile.\n",
    "It will help us for prediction.**"
   ]
  },
  {
   "cell_type": "code",
   "execution_count": 37,
   "metadata": {},
   "outputs": [],
   "source": [
    "# Call describe on df and transpose it due to the large number of columns\n",
    "spread = IstanbulWeather.describe().T\n",
    "\n",
    "# precalculate interquartile range for ease of use in next calculation\n",
    "IQR = spread['75%'] - spread['25%']\n",
    "\n",
    "# create an outliers column which is either 3 IQRs below the first quartile or\n",
    "# 3 IQRs above the third quartile\n",
    "spread['outliers'] = (spread['min']<(spread['25%']-(3*IQR)))|(spread['max'] > (spread['75%']+3*IQR))\n"
   ]
  },
  {
   "cell_type": "code",
   "execution_count": 38,
   "metadata": {},
   "outputs": [],
   "source": [
    "spread = IstanbulWeather.describe().T"
   ]
  },
  {
   "cell_type": "code",
   "execution_count": 39,
   "metadata": {},
   "outputs": [
    {
     "data": {
      "text/html": [
       "<div>\n",
       "<style scoped>\n",
       "    .dataframe tbody tr th:only-of-type {\n",
       "        vertical-align: middle;\n",
       "    }\n",
       "\n",
       "    .dataframe tbody tr th {\n",
       "        vertical-align: top;\n",
       "    }\n",
       "\n",
       "    .dataframe thead th {\n",
       "        text-align: right;\n",
       "    }\n",
       "</style>\n",
       "<table border=\"1\" class=\"dataframe\">\n",
       "  <thead>\n",
       "    <tr style=\"text-align: right;\">\n",
       "      <th></th>\n",
       "      <th>count</th>\n",
       "      <th>mean</th>\n",
       "      <th>std</th>\n",
       "      <th>min</th>\n",
       "      <th>25%</th>\n",
       "      <th>50%</th>\n",
       "      <th>75%</th>\n",
       "      <th>max</th>\n",
       "    </tr>\n",
       "  </thead>\n",
       "  <tbody>\n",
       "    <tr>\n",
       "      <th>Istanbul_DMinT</th>\n",
       "      <td>16801.0</td>\n",
       "      <td>10.635843</td>\n",
       "      <td>6.469607</td>\n",
       "      <td>-9.6</td>\n",
       "      <td>5.4</td>\n",
       "      <td>10.7</td>\n",
       "      <td>16.0</td>\n",
       "      <td>25.6</td>\n",
       "    </tr>\n",
       "    <tr>\n",
       "      <th>Istanbul_DMaxT</th>\n",
       "      <td>16801.0</td>\n",
       "      <td>18.523011</td>\n",
       "      <td>8.068825</td>\n",
       "      <td>-3.2</td>\n",
       "      <td>12.0</td>\n",
       "      <td>18.7</td>\n",
       "      <td>25.5</td>\n",
       "      <td>40.5</td>\n",
       "    </tr>\n",
       "    <tr>\n",
       "      <th>Istanbul_DMeanT</th>\n",
       "      <td>16801.0</td>\n",
       "      <td>14.579305</td>\n",
       "      <td>7.135048</td>\n",
       "      <td>-5.4</td>\n",
       "      <td>8.7</td>\n",
       "      <td>14.6</td>\n",
       "      <td>20.8</td>\n",
       "      <td>31.4</td>\n",
       "    </tr>\n",
       "  </tbody>\n",
       "</table>\n",
       "</div>"
      ],
      "text/plain": [
       "                   count       mean       std  min   25%   50%   75%   max\n",
       "Istanbul_DMinT   16801.0  10.635843  6.469607 -9.6   5.4  10.7  16.0  25.6\n",
       "Istanbul_DMaxT   16801.0  18.523011  8.068825 -3.2  12.0  18.7  25.5  40.5\n",
       "Istanbul_DMeanT  16801.0  14.579305  7.135048 -5.4   8.7  14.6  20.8  31.4"
      ]
     },
     "execution_count": 39,
     "metadata": {},
     "output_type": "execute_result"
    }
   ],
   "source": [
    "spread"
   ]
  },
  {
   "cell_type": "code",
   "execution_count": 40,
   "metadata": {},
   "outputs": [],
   "source": [
    "IQR = spread['75%'] - spread['25%']\n",
    "spread['outliers'] = (spread['min']<(spread['25%']-(3*IQR)))|(spread['max'] > (spread['75%']+3*IQR))"
   ]
  },
  {
   "cell_type": "code",
   "execution_count": 41,
   "metadata": {
    "scrolled": true
   },
   "outputs": [
    {
     "data": {
      "text/html": [
       "<div>\n",
       "<style scoped>\n",
       "    .dataframe tbody tr th:only-of-type {\n",
       "        vertical-align: middle;\n",
       "    }\n",
       "\n",
       "    .dataframe tbody tr th {\n",
       "        vertical-align: top;\n",
       "    }\n",
       "\n",
       "    .dataframe thead th {\n",
       "        text-align: right;\n",
       "    }\n",
       "</style>\n",
       "<table border=\"1\" class=\"dataframe\">\n",
       "  <thead>\n",
       "    <tr style=\"text-align: right;\">\n",
       "      <th></th>\n",
       "      <th>count</th>\n",
       "      <th>mean</th>\n",
       "      <th>std</th>\n",
       "      <th>min</th>\n",
       "      <th>25%</th>\n",
       "      <th>50%</th>\n",
       "      <th>75%</th>\n",
       "      <th>max</th>\n",
       "      <th>outliers</th>\n",
       "    </tr>\n",
       "  </thead>\n",
       "  <tbody>\n",
       "    <tr>\n",
       "      <th>Istanbul_DMinT</th>\n",
       "      <td>16801.0</td>\n",
       "      <td>10.635843</td>\n",
       "      <td>6.469607</td>\n",
       "      <td>-9.6</td>\n",
       "      <td>5.4</td>\n",
       "      <td>10.7</td>\n",
       "      <td>16.0</td>\n",
       "      <td>25.6</td>\n",
       "      <td>False</td>\n",
       "    </tr>\n",
       "    <tr>\n",
       "      <th>Istanbul_DMaxT</th>\n",
       "      <td>16801.0</td>\n",
       "      <td>18.523011</td>\n",
       "      <td>8.068825</td>\n",
       "      <td>-3.2</td>\n",
       "      <td>12.0</td>\n",
       "      <td>18.7</td>\n",
       "      <td>25.5</td>\n",
       "      <td>40.5</td>\n",
       "      <td>False</td>\n",
       "    </tr>\n",
       "    <tr>\n",
       "      <th>Istanbul_DMeanT</th>\n",
       "      <td>16801.0</td>\n",
       "      <td>14.579305</td>\n",
       "      <td>7.135048</td>\n",
       "      <td>-5.4</td>\n",
       "      <td>8.7</td>\n",
       "      <td>14.6</td>\n",
       "      <td>20.8</td>\n",
       "      <td>31.4</td>\n",
       "      <td>False</td>\n",
       "    </tr>\n",
       "  </tbody>\n",
       "</table>\n",
       "</div>"
      ],
      "text/plain": [
       "                   count       mean       std  min   25%   50%   75%   max  \\\n",
       "Istanbul_DMinT   16801.0  10.635843  6.469607 -9.6   5.4  10.7  16.0  25.6   \n",
       "Istanbul_DMaxT   16801.0  18.523011  8.068825 -3.2  12.0  18.7  25.5  40.5   \n",
       "Istanbul_DMeanT  16801.0  14.579305  7.135048 -5.4   8.7  14.6  20.8  31.4   \n",
       "\n",
       "                 outliers  \n",
       "Istanbul_DMinT      False  \n",
       "Istanbul_DMaxT      False  \n",
       "Istanbul_DMeanT     False  "
      ]
     },
     "execution_count": 41,
     "metadata": {},
     "output_type": "execute_result"
    }
   ],
   "source": [
    "spread"
   ]
  },
  {
   "cell_type": "markdown",
   "metadata": {},
   "source": [
    "**Assessing the potential impact of outliers is a difficult part of any analytics project. \n",
    "On the one hand, you need to be concerned about the potential for introducing \n",
    "spurious data artifacts that will significantly impact or bias your models. \n",
    "On the other hand, outliers can be extremely meaningful in predicting outcomes that arise \n",
    "under special circumstances. We will discuss each of these outliers containing features \n",
    "and see if we can come to a reasonable conclusion as to how to treat them.**"
   ]
  },
  {
   "cell_type": "code",
   "execution_count": 42,
   "metadata": {},
   "outputs": [],
   "source": [
    "IstanbulWeather = IstanbulWeather.dropna()"
   ]
  },
  {
   "cell_type": "markdown",
   "metadata": {},
   "source": [
    "The focus of this project will be to describe the processes and steps required to build a rigorous Linear Regression model to predict future mean daily temperature values based off the dataset built in the prior steps. To build the Linear Regression model we will be demonstrating the use of two important Python libraries in the Machine Learning industry: Scikit-Learn and StatsModels."
   ]
  },
  {
   "cell_type": "code",
   "execution_count": 43,
   "metadata": {},
   "outputs": [
    {
     "name": "stdout",
     "output_type": "stream",
     "text": [
      "                            OLS Regression Results                            \n",
      "==============================================================================\n",
      "Dep. Variable:        Istanbul_DMeanT   R-squared:                       1.000\n",
      "Model:                            OLS   Adj. R-squared:                  1.000\n",
      "Method:                 Least Squares   F-statistic:                 1.729e+08\n",
      "Date:                Tue, 15 Jan 2019   Prob (F-statistic):               0.00\n",
      "Time:                        22:13:07   Log-Likelihood:                 11623.\n",
      "No. Observations:                5635   AIC:                        -2.324e+04\n",
      "Df Residuals:                    5632   BIC:                        -2.322e+04\n",
      "Df Model:                           2                                         \n",
      "Covariance Type:            nonrobust                                         \n",
      "==================================================================================\n",
      "                     coef    std err          t      P>|t|      [0.025      0.975]\n",
      "----------------------------------------------------------------------------------\n",
      "Intercept          0.0006      0.001      0.564      0.573      -0.002       0.003\n",
      "Istanbul_DMaxT     0.4999      0.000   3434.426      0.000       0.500       0.500\n",
      "Istanbul_DMinT     0.5001      0.000   2790.098      0.000       0.500       0.500\n",
      "==============================================================================\n",
      "Omnibus:                       44.780   Durbin-Watson:                   2.014\n",
      "Prob(Omnibus):                  0.000   Jarque-Bera (JB):               30.118\n",
      "Skew:                          -0.004   Prob(JB):                     2.88e-07\n",
      "Kurtosis:                       2.642   Cond. No.                         65.8\n",
      "==============================================================================\n",
      "\n",
      "Warnings:\n",
      "[1] Standard Errors assume that the covariance matrix of the errors is correctly specified.\n"
     ]
    }
   ],
   "source": [
    "#OLS Regression\n",
    "import numpy as np\n",
    "import statsmodels.api as sm\n",
    "from statsmodels.graphics.regressionplots import abline_plot\n",
    "import statsmodels.formula.api as smf\n",
    "from sklearn.model_selection import train_test_split\n",
    "from sklearn.linear_model import LinearRegression\n",
    "\n",
    "# The linear regression model\n",
    "Simple_results = smf.ols('Istanbul_DMeanT ~ Istanbul_DMaxT + Istanbul_DMinT', IstanbulWeather).fit()\n",
    "\n",
    "# Results\n",
    "print(Simple_results.summary())"
   ]
  },
  {
   "cell_type": "markdown",
   "metadata": {},
   "source": [
    "** Using SciKit-Learn's LinearRegression Module to Predict the Weather **\n",
    "\n",
    "Now that we have gone through the steps to select statistically meaningful predictors (features), we can use SciKit-Learn to create a prediction model and test its ability to predict the mean temperature. SciKit-Learn is a very well established machine learning library that is widely used in both industry and academia. One thing that is very impressive about SciKit-Learn is that it maintains a very consistent API of \"fit\", \"predict\", and \"test\" across many numerical techniques and algorithms which makes using it very simple. In addition to this consistent API design, SciKit-Learn also comes with several useful tools for processing data common to many machine learning projects.\n",
    "\n",
    "We will start by using SciKit-Learn to split our dataset into a testing and training sets by importing the train_test_split() function from sklearn.model_selection module. I will split the training and testing datasets into 80% training and 20% testing and assign a random_state of 12 to ensure we will get the same random selection of data as we do. This random_state parameter is very useful for reproducibility of results."
   ]
  },
  {
   "cell_type": "code",
   "execution_count": 44,
   "metadata": {},
   "outputs": [],
   "source": [
    "predictors = IstanbulWeather\n",
    "X = predictors  \n",
    "y = IstanbulWeather['Istanbul_DMeanT']"
   ]
  },
  {
   "cell_type": "code",
   "execution_count": 45,
   "metadata": {},
   "outputs": [],
   "source": [
    "X_train, X_test, y_train, y_test = train_test_split(X, y, test_size=0.2, random_state=12)"
   ]
  },
  {
   "cell_type": "markdown",
   "metadata": {},
   "source": [
    "The next action to take is to build the regression model using the training dataset. To do this we will import and use the LinearRegression class from the sklearn.linear_model module. As mentioned previously, scikit-learn scores major usability bonus points by implementing a common fit() and predict() API across its numerous numerical techniques which makes using the library very user friendly."
   ]
  },
  {
   "cell_type": "code",
   "execution_count": 46,
   "metadata": {},
   "outputs": [],
   "source": [
    "from sklearn.linear_model import LinearRegression"
   ]
  },
  {
   "cell_type": "code",
   "execution_count": 47,
   "metadata": {},
   "outputs": [
    {
     "name": "stdout",
     "output_type": "stream",
     "text": [
      "The Explained Variance: 0.01\n",
      "The Mean Absolute Error: 6.70 degrees celsius\n",
      "The Median Absolute Error: 6.85 degrees celsius\n"
     ]
    }
   ],
   "source": [
    "# instantiate the regressor class\n",
    "regressor = LinearRegression()\n",
    "\n",
    "# fit the build the model by fitting the regressor to the training data\n",
    "regressor.fit(X_train, y_train)\n",
    "\n",
    "# make a prediction set using the test set\n",
    "prediction = regressor.predict(X_test)\n",
    "\n",
    "# Evaluate the prediction accuracy of the model\n",
    "from sklearn.metrics import mean_absolute_error, median_absolute_error  \n",
    "print(\"The Explained Variance: %.2f\" % regressor.score(X_test, y_test))  \n",
    "print(\"The Mean Absolute Error: %.2f degrees celsius\" % mean_absolute_error(y_test, prediction))  \n",
    "print(\"The Median Absolute Error: %.2f degrees celsius\" % median_absolute_error(y_test, prediction))"
   ]
  },
  {
   "cell_type": "markdown",
   "metadata": {},
   "source": [
    "As we can see in the few lines of code above using scikit-learn to build a Linear Regression prediction model is quite simple. This is truly where the library shines in its ability to easily fit a model and make predictions about an outcome of interest.\n",
    "\n",
    "To gain an interpretative understanding of the models validity we used the regressor model's score() function to determine that the model is able to explain about 90% of the variance observed in the outcome variable, mean temperature. Additionally, we used the mean_absolute_error() and median_absolute_error() of the sklearn.metrics module to determine that on average the predicted value is about 7 degrees Celsius off and half of the time it is off by about 7 degrees Celsius."
   ]
  },
  {
   "cell_type": "markdown",
   "metadata": {},
   "source": [
    "# Visualizing the Relationships with Multilinear Regression"
   ]
  },
  {
   "cell_type": "markdown",
   "metadata": {},
   "source": [
    "Linear regression aims to apply a set of assumptions primary regarding linear relationships and numerical techniques to predict an outcome (Y, aka the dependent variable) based off of one or more predictors (X's independent variables) with the end goal of establishing a model (mathematical formula) to predict outcomes given only the predictor values with some amount of uncertainty."
   ]
  },
  {
   "cell_type": "markdown",
   "metadata": {},
   "source": [
    "### **Multilinear Regression of IstanbulWeather**\n",
    "We will use the 'ols' function from the [statsmodels](http://www.statsmodels.org/stable/index.html) \n",
    "package to regress the Min Tempature on some of the other variables. \n",
    "Your model should be of the form:\n",
    "$$\n",
    "\\text{Istanbul_DMinT} = \\beta_0 + \\beta_1 x + +  \\beta_2 y\n",
    "$$\n",
    "where $x$ is one of the other variables. \n",
    "\n",
    "We'll find that the best predictor of Istanbul_DMinT."
   ]
  },
  {
   "cell_type": "code",
   "execution_count": 48,
   "metadata": {},
   "outputs": [
    {
     "data": {
      "text/html": [
       "<div>\n",
       "<style scoped>\n",
       "    .dataframe tbody tr th:only-of-type {\n",
       "        vertical-align: middle;\n",
       "    }\n",
       "\n",
       "    .dataframe tbody tr th {\n",
       "        vertical-align: top;\n",
       "    }\n",
       "\n",
       "    .dataframe thead th {\n",
       "        text-align: right;\n",
       "    }\n",
       "</style>\n",
       "<table border=\"1\" class=\"dataframe\">\n",
       "  <thead>\n",
       "    <tr style=\"text-align: right;\">\n",
       "      <th></th>\n",
       "      <th>Istanbul_DMinT</th>\n",
       "      <th>Istanbul_DMaxT</th>\n",
       "      <th>Istanbul_DMeanT</th>\n",
       "    </tr>\n",
       "  </thead>\n",
       "  <tbody>\n",
       "    <tr>\n",
       "      <th>10592</th>\n",
       "      <td>8.0</td>\n",
       "      <td>11.5</td>\n",
       "      <td>9.8</td>\n",
       "    </tr>\n",
       "    <tr>\n",
       "      <th>10593</th>\n",
       "      <td>7.5</td>\n",
       "      <td>12.2</td>\n",
       "      <td>9.8</td>\n",
       "    </tr>\n",
       "    <tr>\n",
       "      <th>10594</th>\n",
       "      <td>4.3</td>\n",
       "      <td>13.3</td>\n",
       "      <td>8.8</td>\n",
       "    </tr>\n",
       "    <tr>\n",
       "      <th>10595</th>\n",
       "      <td>0.8</td>\n",
       "      <td>4.6</td>\n",
       "      <td>2.7</td>\n",
       "    </tr>\n",
       "    <tr>\n",
       "      <th>10596</th>\n",
       "      <td>-0.2</td>\n",
       "      <td>1.9</td>\n",
       "      <td>0.8</td>\n",
       "    </tr>\n",
       "  </tbody>\n",
       "</table>\n",
       "</div>"
      ],
      "text/plain": [
       "       Istanbul_DMinT  Istanbul_DMaxT  Istanbul_DMeanT\n",
       "10592             8.0            11.5              9.8\n",
       "10593             7.5            12.2              9.8\n",
       "10594             4.3            13.3              8.8\n",
       "10595             0.8             4.6              2.7\n",
       "10596            -0.2             1.9              0.8"
      ]
     },
     "execution_count": 48,
     "metadata": {},
     "output_type": "execute_result"
    }
   ],
   "source": [
    "# Create a new dataframe for the Processes of Visualization on the Istanbul\n",
    "# IstanbulW: Istanbul Weather\n",
    "\n",
    "IstanbulWeather = IstanbulWeather[['Istanbul_DMinT'] + ['Istanbul_DMaxT'] + ['Istanbul_DMeanT']]\n",
    "IstanbulWeather.head()"
   ]
  },
  {
   "cell_type": "code",
   "execution_count": 49,
   "metadata": {},
   "outputs": [
    {
     "data": {
      "text/html": [
       "<div>\n",
       "<style scoped>\n",
       "    .dataframe tbody tr th:only-of-type {\n",
       "        vertical-align: middle;\n",
       "    }\n",
       "\n",
       "    .dataframe tbody tr th {\n",
       "        vertical-align: top;\n",
       "    }\n",
       "\n",
       "    .dataframe thead th {\n",
       "        text-align: right;\n",
       "    }\n",
       "</style>\n",
       "<table border=\"1\" class=\"dataframe\">\n",
       "  <thead>\n",
       "    <tr style=\"text-align: right;\">\n",
       "      <th></th>\n",
       "      <th>Istanbul_DMinT</th>\n",
       "    </tr>\n",
       "  </thead>\n",
       "  <tbody>\n",
       "    <tr>\n",
       "      <th>Istanbul_DMaxT</th>\n",
       "      <td>0.943959</td>\n",
       "    </tr>\n",
       "    <tr>\n",
       "      <th>Istanbul_DMeanT</th>\n",
       "      <td>0.982788</td>\n",
       "    </tr>\n",
       "    <tr>\n",
       "      <th>Istanbul_DMinT</th>\n",
       "      <td>1.000000</td>\n",
       "    </tr>\n",
       "  </tbody>\n",
       "</table>\n",
       "</div>"
      ],
      "text/plain": [
       "                 Istanbul_DMinT\n",
       "Istanbul_DMaxT         0.943959\n",
       "Istanbul_DMeanT        0.982788\n",
       "Istanbul_DMinT         1.000000"
      ]
     },
     "execution_count": 49,
     "metadata": {},
     "output_type": "execute_result"
    }
   ],
   "source": [
    "#Correlation between Istanbul_DMinT and other parameters\n",
    "\n",
    "IstanbulWeather.corr()[['Istanbul_DMinT']].sort_values('Istanbul_DMinT')"
   ]
  },
  {
   "cell_type": "markdown",
   "metadata": {},
   "source": [
    "**We will show relationship between Istanbul Weather Types using Seaborn.**"
   ]
  },
  {
   "cell_type": "markdown",
   "metadata": {},
   "source": [
    "We are much more accustomed to looking at visuals to assess and verify patterns, I will be graphing each of these selected predictors to prove to myself that there is in fact a linear relationship. To do this we will utilize seaborn module.\n",
    "\n",
    "For this plot I would like to have the dependent variable \"Istanbul_DMinT\" be the consistent y-axis along all of the 3 predictor variables plots. One way to accomplish this is to create a grid of plots. We will create a grid structure with three rows of three columns in order to avoid sacrificing clarity in the graphs."
   ]
  },
  {
   "cell_type": "code",
   "execution_count": 50,
   "metadata": {},
   "outputs": [
    {
     "data": {
      "text/plain": [
       "<seaborn.axisgrid.PairGrid at 0x258b3b38>"
      ]
     },
     "execution_count": 50,
     "metadata": {},
     "output_type": "execute_result"
    },
    {
     "data": {
      "image/png": "[encoded data removed]",
      "text/plain": [
       "<Figure size 540x540 with 9 Axes>"
      ]
     },
     "metadata": {},
     "output_type": "display_data"
    }
   ],
   "source": [
    "# Seaborn plot for Istanbul Data\n",
    "\n",
    "import seaborn as sns\n",
    "sns.set()\n",
    "\n",
    "g = sns.PairGrid(IstanbulWeather, vars=['Istanbul_DMinT', 'Istanbul_DMaxT', 'Istanbul_DMeanT'],\n",
    "                 hue='Istanbul_DMinT', palette='RdBu_r')\n",
    "g.map(plt.scatter, alpha=0.8)"
   ]
  },
  {
   "cell_type": "markdown",
   "metadata": {},
   "source": [
    "From the plots above it is recognizable that all the remaining predictor variables show a good linear relationship with the response variable (\"Istanbul_DMinT\"). Additionally, it is also worth noting that the relationships all look uniformly randomly distributed. By this we mean there appears to be relatively equal variation in the spread of values devoid of any fanning or cone shape. A uniform random distribution of spread along the points is also another important assumption of Linear Regression using Ordinary Least Squares algorithm."
   ]
  },
  {
   "cell_type": "markdown",
   "metadata": {},
   "source": [
    "** Using Step-wise Regression to Build a Robust Model **\n",
    "\n",
    "A robust Linear Regression model should utilize statistical tests for selecting meaningful, statistically significant, predictors to include. To select statistically significant features, I will utilize the Python statsmodels library. However, before I jump into the practical implementation of using the statsmodels library I would like to take a step back and explain some of the theoretical meaning and purpose for taking this approach.\n",
    "\n",
    "A key aspect of using statistical methods such as Linear Regression in an analytics project are the establishment and testing of hypothesis tests to validate the significance of assumptions made about the data under study. There are numerous hypothesis tests that have been developed to test the robustness of a linear regression model against various assumptions that are made. One such hypothesis test is to evaluate the significance of each of the included predictor variables."
   ]
  },
  {
   "cell_type": "code",
   "execution_count": 51,
   "metadata": {},
   "outputs": [
    {
     "name": "stdout",
     "output_type": "stream",
     "text": [
      "                            OLS Regression Results                            \n",
      "==============================================================================\n",
      "Dep. Variable:         Istanbul_DMinT   R-squared:                       1.000\n",
      "Model:                            OLS   Adj. R-squared:                  1.000\n",
      "Method:                 Least Squares   F-statistic:                 3.575e+07\n",
      "Date:                Tue, 15 Jan 2019   Prob (F-statistic):               0.00\n",
      "Time:                        22:14:25   Log-Likelihood:                 7719.8\n",
      "No. Observations:                5635   AIC:                        -1.543e+04\n",
      "Df Residuals:                    5632   BIC:                        -1.541e+04\n",
      "Df Model:                           2                                         \n",
      "Covariance Type:            nonrobust                                         \n",
      "===================================================================================\n",
      "                      coef    std err          t      P>|t|      [0.025      0.975]\n",
      "-----------------------------------------------------------------------------------\n",
      "Intercept          -0.0035      0.002     -1.551      0.121      -0.008       0.001\n",
      "Istanbul_DMaxT     -0.9984      0.001  -1560.369      0.000      -1.000      -0.997\n",
      "Istanbul_DMeanT     1.9982      0.001   2790.098      0.000       1.997       2.000\n",
      "==============================================================================\n",
      "Omnibus:                       44.554   Durbin-Watson:                   2.012\n",
      "Prob(Omnibus):                  0.000   Jarque-Bera (JB):               30.005\n",
      "Skew:                           0.006   Prob(JB):                     3.05e-07\n",
      "Kurtosis:                       2.643   Cond. No.                         73.4\n",
      "==============================================================================\n",
      "\n",
      "Warnings:\n",
      "[1] Standard Errors assume that the covariance matrix of the errors is correctly specified.\n"
     ]
    }
   ],
   "source": [
    "# The linear regression model for tempature types\n",
    "\n",
    "IstanbulWeather_results = smf.ols('Istanbul_DMinT ~  + Istanbul_DMaxT + Istanbul_DMeanT', IstanbulWeather).fit()\n",
    "# Result\n",
    "print(IstanbulWeather_results.summary())"
   ]
  },
  {
   "cell_type": "markdown",
   "metadata": {},
   "source": [
    "Ok, We recognize that the call to summary() just barfed out a whole lot of information onto the screen.\n",
    "We are only going to focus on about 2-3 values in this article:\n",
    "\n",
    "    P>|t| - this is the p-value I mentioned above that I will be using to evaluate the hypothesis test. This is the value we are going to use to determine whether to eliminate a variable in this step-wise backward elimination technique.\n",
    "    R-squared - a measure that states how much of the overall variance in the outcome our model can explain\n",
    "    Adj. R-squared - the same as R-squared but, for multiple linear regression this value has a penalty applied to it based off the number of variables being included to explain the level of overfitting."
   ]
  },
  {
   "cell_type": "code",
   "execution_count": 52,
   "metadata": {},
   "outputs": [
    {
     "data": {
      "image/png": "[encoded data removed]",
      "text/plain": [
       "<Figure size 720x432 with 2 Axes>"
      ]
     },
     "metadata": {},
     "output_type": "display_data"
    }
   ],
   "source": [
    "# plot\n",
    "model = sm.OLS(IstanbulWeather.Istanbul_DMinT, sm.add_constant(IstanbulWeather.Istanbul_DMaxT))\n",
    "\n",
    "# scatter-plot data\n",
    "ax = IstanbulWeather.plot(kind='scatter', x='Istanbul_DMinT', y='Istanbul_DMaxT', \n",
    "label=\"Relation of Min, Max and Mean Tempature\",\n",
    "    c=\"Istanbul_DMeanT\", cmap=plt.get_cmap(\"jet\"),\n",
    "    colorbar=True, alpha=0.8, figsize=(10,6))\n",
    "# plot regression line\n",
    "abline_plot(model_results=model.fit(), ax=ax)\n",
    "    \n",
    "plt.legend()\n",
    "plt.show()"
   ]
  },
  {
   "cell_type": "markdown",
   "metadata": {},
   "source": [
    "# Acknowledgement\n",
    "\n",
    "**We would like to thank dear Prof. Dr. Erdoğan Doğdu. We learned a lot of information about Python and Data Science. We will continue to improve our knowlegde and we want to be data scientists of future.**"
   ]
  },
  {
   "cell_type": "markdown",
   "metadata": {},
   "source": [
    "# References"
   ]
  },
  {
   "cell_type": "markdown",
   "metadata": {},
   "source": [
    "[1] Using Machine Learning to Predict the Weather: Part 1 [Online]. https://stackabuse.com/using-machine-learning-to-predict-the-weather-part-1/\n",
    "\n",
    "[2] Using Machine Learning to Predict the Weather: Part 2 [Online]. https://stackabuse.com/using-machine-learning-to-predict-the-weather-part-2/\n",
    "\n",
    "[3] Visualization with Seaborn [Online]. https://jakevdp.github.io/PythonDataScienceHandbook/04.14-visualization-with-seaborn.html\n",
    "\n",
    "[4] Mapping Geo Data [Online]. https://bokeh.pydata.org/en/latest/docs/user_guide/geo.html\n",
    "\n",
    "[5] KNMI Climate Explorer [Online]. http://climexp.knmi.nl/selectdailyseries.cgi?id=someone@somewhere\n",
    "\n",
    "[6] Data Science Course [Online]. https://github.com/edogdu/"
   ]
  }
 ],
 "metadata": {
  "kernelspec": {
   "display_name": "Python 3",
   "language": "python",
   "name": "python3"
  },
  "language_info": {
   "codemirror_mode": {
    "name": "ipython",
    "version": 3
   },
   "file_extension": ".py",
   "mimetype": "text/x-python",
   "name": "python",
   "nbconvert_exporter": "python",
   "pygments_lexer": "ipython3",
   "version": "3.6.5"
  }
 },
 "nbformat": 4,
 "nbformat_minor": 2
}
